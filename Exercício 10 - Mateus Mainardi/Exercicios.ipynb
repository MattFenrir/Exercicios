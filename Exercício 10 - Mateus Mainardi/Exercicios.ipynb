{
  "nbformat": 4,
  "nbformat_minor": 0,
  "metadata": {
    "colab": {
      "name": "Exercicios.ipynb",
      "provenance": [],
      "collapsed_sections": []
    },
    "kernelspec": {
      "name": "python3",
      "display_name": "Python 3"
    },
    "language_info": {
      "name": "python"
    }
  },
  "cells": [
    {
      "cell_type": "code",
      "execution_count": null,
      "metadata": {
        "id": "_va_32wvVei1",
        "colab": {
          "base_uri": "https://localhost:8080/"
        },
        "outputId": "818c93ca-0655-4841-9dc0-6c35470bcf9f"
      },
      "outputs": [
        {
          "output_type": "stream",
          "name": "stdout",
          "text": [
            "Digite um valor: 10\n",
            "Digite outro valor: 10\n",
            "Têm o mesmo valor\n"
          ]
        }
      ],
      "source": [
        "# Questão 1\n",
        "\n",
        "x = int(input('Digite um valor: '))\n",
        "y = int(input('Digite outro valor: '))\n",
        "\n",
        "if(x > y):\n",
        "  print('x é o maior valor')\n",
        "elif(y > x):\n",
        "  print('y é o maior valor')\n",
        "else:\n",
        "  print('Têm o mesmo valor')"
      ]
    },
    {
      "cell_type": "code",
      "source": [
        "# Questão 2\n",
        "\n",
        "nascimento = int(input('Digite o seu ano de nascimento: '))\n",
        "\n",
        "if(nascimento <= 2006):\n",
        "  print('Permissão para votar concedida')\n",
        "else:\n",
        "  print('Permissão para votar negada')\n"
      ],
      "metadata": {
        "colab": {
          "base_uri": "https://localhost:8080/"
        },
        "id": "HdklEwpbipu_",
        "outputId": "51f0d426-10aa-48e6-e6b5-972f528978a9"
      },
      "execution_count": null,
      "outputs": [
        {
          "output_type": "stream",
          "name": "stdout",
          "text": [
            "Digite o seu ano de nascimento: 1992\n",
            "Permissão para votar concedida\n"
          ]
        }
      ]
    },
    {
      "cell_type": "code",
      "source": [
        "# Questão 3\n",
        "\n",
        "senha = int(input('Digite sua senha: '))\n",
        "\n",
        "if(senha == 1234):\n",
        "  print('Bem-vindo!')\n",
        "else:\n",
        "  print('Senha incorreta!')"
      ],
      "metadata": {
        "colab": {
          "base_uri": "https://localhost:8080/"
        },
        "id": "HYcIRgHWmLPu",
        "outputId": "6742e8aa-d040-4206-a028-287293029752"
      },
      "execution_count": null,
      "outputs": [
        {
          "output_type": "stream",
          "name": "stdout",
          "text": [
            "Digite sua senha: 3421\n",
            "Senha incorreta!\n"
          ]
        }
      ]
    },
    {
      "cell_type": "code",
      "source": [
        "# Questão 4\n",
        "\n",
        "maca = int(input('Informe o número de maçãs compradas: '))\n",
        "\n",
        "if(maca < 12):\n",
        "  preco = maca * 0.30\n",
        "  print('O valor da compra é de: R$', round(preco, 2))\n",
        "else:\n",
        "  preco = maca * 0.25\n",
        "  print('O valor da compra é de: R$', round(preco, 2))"
      ],
      "metadata": {
        "colab": {
          "base_uri": "https://localhost:8080/"
        },
        "id": "Wx0ZliS1nTLM",
        "outputId": "b3de352e-d92d-4215-a82a-ca13c93c2c40"
      },
      "execution_count": null,
      "outputs": [
        {
          "output_type": "stream",
          "name": "stdout",
          "text": [
            "Informe o número de maçãs compradas: 6\n",
            "O valor da compra é de: R$ 1.8\n"
          ]
        }
      ]
    },
    {
      "cell_type": "code",
      "source": [
        "# Questão 5\n",
        "\n",
        "num1 = int(input('Escreva o primeiro número: '))\n",
        "num2 = int(input('Escreva o segundo número: '))\n",
        "num3 = int(input('Escreva o terceiro número: '))\n",
        "\n",
        "valores = [num1, num2, num3]\n",
        "print(sorted(valores))"
      ],
      "metadata": {
        "colab": {
          "base_uri": "https://localhost:8080/"
        },
        "id": "-rlSKN6yoE6l",
        "outputId": "5d77a4a7-e485-4432-b1d9-e509174d4dd0"
      },
      "execution_count": null,
      "outputs": [
        {
          "output_type": "stream",
          "name": "stdout",
          "text": [
            "Escreva o primeiro número: 50\n",
            "Escreva o segundo número: 1\n",
            "Escreva o terceiro número: 30\n",
            "[1, 30, 50]\n"
          ]
        }
      ]
    },
    {
      "cell_type": "code",
      "source": [
        "# Questão 6\n",
        "\n",
        "sexo = input('Digite seu gênero: ').upper()\n",
        "altura = float(input('Digite sua altura: '))\n",
        "peso = float()\n",
        "\n",
        "if(sexo == 'F'):\n",
        "  peso = (62.1 * altura) - 44.7\n",
        "  print('Seu peso ideal é:', peso, 'Kg')\n",
        "elif(sexo == 'M'):\n",
        "  peso = (72.7 * altura) - 58\n",
        "  print('Seu peso ideal é:', peso, 'Kg')\n",
        "else:\n",
        "  print('Erro')"
      ],
      "metadata": {
        "colab": {
          "base_uri": "https://localhost:8080/"
        },
        "id": "rDfVp-tiqXCs",
        "outputId": "aa7f44a1-377d-4a9a-b0b6-a979c476bbf5"
      },
      "execution_count": null,
      "outputs": [
        {
          "output_type": "stream",
          "name": "stdout",
          "text": [
            "Digite seu gênero: J\n",
            "Digite sua altura: 1.65\n",
            "Erro\n"
          ]
        }
      ]
    },
    {
      "cell_type": "code",
      "source": [
        "# Questão 7\n",
        "\n",
        "lados = int(input('Informe o número de lados do polígono: '))\n",
        "area = int\n",
        "\n",
        "if(lados == 3):\n",
        "  base = int(input('Digite a base do polígono: '))\n",
        "  altura = int(input('Digite a altura do polígono: '))\n",
        "  area = (base * altura)/2\n",
        "  print('É um triângulo e sua área é:', area)\n",
        "elif(lados == 4):\n",
        "  lado = int(input('Digite o tamanho dos lados: '))\n",
        "  area = lado * lado\n",
        "  print('É um quadrado e sua área é:', area)\n",
        "elif(lados == 5):\n",
        "  print('É um pentágono')\n",
        "else:\n",
        "  print('Digite somente os números 3, 4 ou 5')"
      ],
      "metadata": {
        "colab": {
          "base_uri": "https://localhost:8080/"
        },
        "id": "BQ1hyaRVt0yQ",
        "outputId": "fbc93ced-9f11-42cb-8e9c-ccd113b243d4"
      },
      "execution_count": null,
      "outputs": [
        {
          "output_type": "stream",
          "name": "stdout",
          "text": [
            "Informe o número de lados do polígono: 3\n",
            "Digite a base do polígono: 20\n",
            "Digite a altura do polígono15\n",
            "É um triângulo e sua área é: 150.0\n"
          ]
        }
      ]
    },
    {
      "cell_type": "code",
      "source": [
        "# Questão 8\n",
        "\n",
        "lados = int(input('Informe o número de lados do polígono: '))\n",
        "area = int\n",
        "\n",
        "if(lados == 3):\n",
        "  base = int(input('Digite a base do polígono: '))\n",
        "  altura = int(input('Digite a altura do polígono: '))\n",
        "  area = (base * altura)/2\n",
        "  print('É um triângulo e sua área é:', area)\n",
        "elif(lados == 4):\n",
        "  lado = int(input('Digite o tamanho dos lados: '))\n",
        "  area = lado * lado\n",
        "  print('É um quadrado e sua área é:', area)\n",
        "elif(lados == 5):\n",
        "  print('É um pentágono')\n",
        "elif(lados < 3):\n",
        "  print('Não é um polígono')\n",
        "else:\n",
        "  print('Polígono não identificado')\n"
      ],
      "metadata": {
        "colab": {
          "base_uri": "https://localhost:8080/"
        },
        "id": "I5wKiR3jxJvH",
        "outputId": "3fff5561-5905-45d6-81f5-ca8e18a2a571"
      },
      "execution_count": null,
      "outputs": [
        {
          "output_type": "stream",
          "name": "stdout",
          "text": [
            "Informe o número de lados do polígono: 8\n",
            "Polígono não identificado\n"
          ]
        }
      ]
    },
    {
      "cell_type": "code",
      "source": [
        "# Questão 9\n",
        "\n",
        "num1 = int(input('Escreva o primeiro número: '))\n",
        "num2 = int(input('Escreva o segundo número: '))\n",
        "num3 = int(input('Escreva o terceiro número: '))\n",
        "\n",
        "if(num1 > num2 and num1 > num3):\n",
        "  print(num1)\n",
        "elif(num2 > num1 and num2 > num3):\n",
        "  print(num2)\n",
        "elif(num3 > num1 and num3 > num2):\n",
        "  print(num3)\n",
        "else:\n",
        "  print('Dois ou mais números têm o mesmo valor')"
      ],
      "metadata": {
        "colab": {
          "base_uri": "https://localhost:8080/"
        },
        "id": "_VxqcxVUxph3",
        "outputId": "98ee403b-b322-4193-c883-c10fd22f260d"
      },
      "execution_count": null,
      "outputs": [
        {
          "output_type": "stream",
          "name": "stdout",
          "text": [
            "Escreva o primeiro número: 90\n",
            "Escreva o segundo número: 70\n",
            "Escreva o terceiro número: 50\n",
            "90\n"
          ]
        }
      ]
    },
    {
      "cell_type": "code",
      "source": [
        "# Questão 10\n",
        "\n",
        "a = float(input('Primeiro lado: '))\n",
        "b = float(input('Segundo  lado: '))\n",
        "c = float(input('Terceiro lado: '))\n",
        "    \n",
        "\n",
        "if(a + b < c) or (a + c < b) or (b + c < a):\n",
        "      print('Não é um triangulo')\n",
        "elif(a == b) and (a == c) :\n",
        "      print('Equilatero')\n",
        "elif(a == b) or (a == c) or (b == c):\n",
        "      print('Isósceles')\n",
        "else:\n",
        "      print('Escaleno')"
      ],
      "metadata": {
        "colab": {
          "base_uri": "https://localhost:8080/"
        },
        "id": "43xCxSnqyuMf",
        "outputId": "980135ef-89ef-48f0-9d4d-a15707ce6941"
      },
      "execution_count": null,
      "outputs": [
        {
          "output_type": "stream",
          "name": "stdout",
          "text": [
            "Primeiro lado: 7\n",
            "Segundo  lado: 8\n",
            "Terceiro lado: 7\n",
            "Isósceles\n"
          ]
        }
      ]
    },
    {
      "cell_type": "code",
      "source": [
        "# Questão 11\n",
        "\n",
        "a = float(input('Primeiro lado: '))\n",
        "b = float(input('Segundo  lado: '))\n",
        "c = float(input('Terceiro lado: '))\n",
        "\n",
        "if(a == 90 or b == 90 or c == 90):\n",
        "  print('É um triângulo retângulo')\n",
        "elif(a > 90 or b > 90 or c > 90):\n",
        "  print('É um triângulo obtuso')\n",
        "else:\n",
        "  print('É um triângulo agudo')"
      ],
      "metadata": {
        "colab": {
          "base_uri": "https://localhost:8080/"
        },
        "id": "GGWgIRpFzXMn",
        "outputId": "08c0af1f-c475-42f1-c47e-8bbed1c6fe60"
      },
      "execution_count": null,
      "outputs": [
        {
          "output_type": "stream",
          "name": "stdout",
          "text": [
            "Primeiro lado: 90\n",
            "Segundo  lado: 80\n",
            "Terceiro lado: 70\n",
            "É um triângulo retângulo\n"
          ]
        }
      ]
    },
    {
      "cell_type": "code",
      "source": [
        "# Questão 12\n",
        "\n",
        "combustivel = input(\"Digite A para álcool ou G para gasolina: \").upper()\n",
        "litros = float(input(\"Digite quantos litros você quer abastecer: \"))\n",
        "\n",
        "if(combustivel == \"A\"):\n",
        "    preco = litros * 1.9\n",
        "    if(litros <= 20):\n",
        "        preco -= 1.9 * litros * 3 / 100\n",
        "    else:\n",
        "        preco -= 1.9 * litros * 5 / 100\n",
        "elif(combustivel == \"G\"):\n",
        "    preco = litros * 2.5\n",
        "    if(litros <= 20):\n",
        "        preco -= 2.5 * litros * 4 / 100\n",
        "    else:\n",
        "        preco -= 2.5 * litros * 6 / 100\n",
        "print(\"O preço a pagar é de R$\", preco)"
      ],
      "metadata": {
        "colab": {
          "base_uri": "https://localhost:8080/"
        },
        "id": "hZnju7ww1T6F",
        "outputId": "daf4c94c-3123-4dbc-8227-01cea8c70531"
      },
      "execution_count": null,
      "outputs": [
        {
          "output_type": "stream",
          "name": "stdout",
          "text": [
            "Digite A para álcool ou G para gasolina: G\n",
            "Digite quantos litros você quer abastecer: 5\n",
            "O preço a pagar é de R$ 12.0\n"
          ]
        }
      ]
    },
    {
      "cell_type": "code",
      "source": [
        "# Exercício 12/07\n",
        "\n",
        "soma = 0\n",
        "quantMulheres = 0\n",
        "media = 0\n",
        "menor = 200\n",
        "novo = ''\n",
        "\n",
        "for quant in range(1,6):\n",
        "\n",
        "    nome = input('Digite o seu nome: ')\n",
        "    idade = int(input('Digite a sua idade : '))\n",
        "    sexo = input('Digite o seu gênero: ').upper()\n",
        "    print('-'*20)\n",
        "\n",
        "    soma = soma + idade\n",
        "    media = soma / quant\n",
        "\n",
        "    if sexo == 'M' and idade < menor:\n",
        "        menor = idade\n",
        "        novo = nome\n",
        "\n",
        "    if sexo == 'F' and idade > 20:\n",
        "        quantMulheres += 1\n",
        "\n",
        "print('A média das idades é de: {}'.format(media))\n",
        "print('O nome do mais novo é: {}'.format(novo))\n",
        "\n",
        "if quantMulheres == 0:\n",
        "    print('Não há mulheres no grupo')\n",
        "\n",
        "else:\n",
        "    print('Ao todo {} mulheres tem mais de 20 anos'.format(quantMulheres))"
      ],
      "metadata": {
        "colab": {
          "base_uri": "https://localhost:8080/"
        },
        "id": "vZwhwfUQ6ss7",
        "outputId": "8468de60-7949-4fbb-d341-231fda058b3b"
      },
      "execution_count": null,
      "outputs": [
        {
          "output_type": "stream",
          "name": "stdout",
          "text": [
            "Digite o seu nome: Mateus\n",
            "Digite a sua idade : 30\n",
            "Digite o seu gênero: M\n",
            "--------------------\n",
            "Digite o seu nome: Davi\n",
            "Digite a sua idade : 17\n",
            "Digite o seu gênero: M\n",
            "--------------------\n",
            "Digite o seu nome: Akio\n",
            "Digite a sua idade : 31\n",
            "Digite o seu gênero: M\n",
            "--------------------\n",
            "Digite o seu nome: Sayu\n",
            "Digite a sua idade : 32\n",
            "Digite o seu gênero: F\n",
            "--------------------\n",
            "Digite o seu nome: Lo\n",
            "Digite a sua idade : 30\n",
            "Digite o seu gênero: F\n",
            "--------------------\n",
            "A média das idades é de: 28.0\n",
            "O nome do mais novo é: Davi\n",
            "Ao todo 2 mulheres tem mais de 20 anos\n"
          ]
        }
      ]
    },
    {
      "cell_type": "code",
      "source": [
        ""
      ],
      "metadata": {
        "id": "Blf6B4cCktY5"
      },
      "execution_count": null,
      "outputs": []
    }
  ]
}