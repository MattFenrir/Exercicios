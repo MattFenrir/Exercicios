{
  "nbformat": 4,
  "nbformat_minor": 0,
  "metadata": {
    "colab": {
      "name": "Exercicios.ipynb",
      "provenance": [],
      "collapsed_sections": []
    },
    "kernelspec": {
      "name": "python3",
      "display_name": "Python 3"
    },
    "language_info": {
      "name": "python"
    }
  },
  "cells": [
    {
      "cell_type": "code",
      "execution_count": null,
      "metadata": {
        "id": "_va_32wvVei1",
        "colab": {
          "base_uri": "https://localhost:8080/"
        },
        "outputId": "818c93ca-0655-4841-9dc0-6c35470bcf9f"
      },
      "outputs": [
        {
          "output_type": "stream",
          "name": "stdout",
          "text": [
            "Digite um valor: 10\n",
            "Digite outro valor: 10\n",
            "Têm o mesmo valor\n"
          ]
        }
      ],
      "source": [
        "# Questão 1\n",
        "\n",
        "x = int(input('Digite um valor: '))\n",
        "y = int(input('Digite outro valor: '))\n",
        "\n",
        "if(x > y):\n",
        "  print('x é o maior valor')\n",
        "elif(y > x):\n",
        "  print('y é o maior valor')\n",
        "else:\n",
        "  print('Têm o mesmo valor')"
      ]
    },
    {
      "cell_type": "code",
      "source": [
        "# Questão 2\n",
        "\n",
        "nascimento = int(input('Digite o seu ano de nascimento: '))\n",
        "\n",
        "if(nascimento <= 2006):\n",
        "  print('Permissão para votar concedida')\n",
        "else:\n",
        "  print('Permissão para votar negada')\n"
      ],
      "metadata": {
        "colab": {
          "base_uri": "https://localhost:8080/"
        },
        "id": "HdklEwpbipu_",
        "outputId": "51f0d426-10aa-48e6-e6b5-972f528978a9"
      },
      "execution_count": null,
      "outputs": [
        {
          "output_type": "stream",
          "name": "stdout",
          "text": [
            "Digite o seu ano de nascimento: 1992\n",
            "Permissão para votar concedida\n"
          ]
        }
      ]
    },
    {
      "cell_type": "code",
      "source": [
        "# Questão 3\n",
        "\n",
        "senha = int(input('Digite sua senha: '))\n",
        "\n",
        "if(senha == 1234):\n",
        "  print('Bem-vindo!')\n",
        "else:\n",
        "  print('Senha incorreta!')"
      ],
      "metadata": {
        "colab": {
          "base_uri": "https://localhost:8080/"
        },
        "id": "HYcIRgHWmLPu",
        "outputId": "6742e8aa-d040-4206-a028-287293029752"
      },
      "execution_count": null,
      "outputs": [
        {
          "output_type": "stream",
          "name": "stdout",
          "text": [
            "Digite sua senha: 3421\n",
            "Senha incorreta!\n"
          ]
        }
      ]
    },
    {
      "cell_type": "code",
      "source": [
        "# Questão 4\n",
        "\n",
        "maca = int(input('Informe o número de maçãs compradas: '))\n",
        "\n",
        "if(maca < 12):\n",
        "  preco = maca * 0.30\n",
        "  print('O valor da compra é de: R$', round(preco, 2))\n",
        "else:\n",
        "  preco = maca * 0.25\n",
        "  print('O valor da compra é de: R$', round(preco, 2))"
      ],
      "metadata": {
        "colab": {
          "base_uri": "https://localhost:8080/"
        },
        "id": "Wx0ZliS1nTLM",
        "outputId": "b3de352e-d92d-4215-a82a-ca13c93c2c40"
      },
      "execution_count": null,
      "outputs": [
        {
          "output_type": "stream",
          "name": "stdout",
          "text": [
            "Informe o número de maçãs compradas: 6\n",
            "O valor da compra é de: R$ 1.8\n"
          ]
        }
      ]
    },
    {
      "cell_type": "code",
      "source": [
        "# Questão 5\n",
        "\n",
        "num1 = int(input('Escreva o primeiro número: '))\n",
        "num2 = int(input('Escreva o segundo número: '))\n",
        "num3 = int(input('Escreva o terceiro número: '))\n",
        "\n",
        "valores = [num1, num2, num3]\n",
        "print(sorted(valores))"
      ],
      "metadata": {
        "colab": {
          "base_uri": "https://localhost:8080/"
        },
        "id": "-rlSKN6yoE6l",
        "outputId": "5d77a4a7-e485-4432-b1d9-e509174d4dd0"
      },
      "execution_count": null,
      "outputs": [
        {
          "output_type": "stream",
          "name": "stdout",
          "text": [
            "Escreva o primeiro número: 50\n",
            "Escreva o segundo número: 1\n",
            "Escreva o terceiro número: 30\n",
            "[1, 30, 50]\n"
          ]
        }
      ]
    },
    {
      "cell_type": "code",
      "source": [
        "# Questão 6\n",
        "\n",
        "sexo = input('Digite seu gênero: ').upper()\n",
        "altura = float(input('Digite sua altura: '))\n",
        "peso = float()\n",
        "\n",
        "if(sexo == 'F'):\n",
        "  peso = (62.1 * altura) - 44.7\n",
        "  print('Seu peso ideal é:', peso, 'Kg')\n",
        "elif(sexo == 'M'):\n",
        "  peso = (72.7 * altura) - 58\n",
        "  print('Seu peso ideal é:', peso, 'Kg')\n",
        "else:\n",
        "  print('Erro')"
      ],
      "metadata": {
        "colab": {
          "base_uri": "https://localhost:8080/"
        },
        "id": "rDfVp-tiqXCs",
        "outputId": "aa7f44a1-377d-4a9a-b0b6-a979c476bbf5"
      },
      "execution_count": null,
      "outputs": [
        {
          "output_type": "stream",
          "name": "stdout",
          "text": [
            "Digite seu gênero: J\n",
            "Digite sua altura: 1.65\n",
            "Erro\n"
          ]
        }
      ]
    },
    {
      "cell_type": "code",
      "source": [
        "# Questão 7\n",
        "\n",
        "lados = int(input('Informe o número de lados do polígono: '))\n",
        "area = int\n",
        "\n",
        "if(lados == 3):\n",
        "  base = int(input('Digite a base do polígono: '))\n",
        "  altura = int(input('Digite a altura do polígono: '))\n",
        "  area = (base * altura)/2\n",
        "  print('É um triângulo e sua área é:', area)\n",
        "elif(lados == 4):\n",
        "  lado = int(input('Digite o tamanho dos lados: '))\n",
        "  area = lado * lado\n",
        "  print('É um quadrado e sua área é:', area)\n",
        "elif(lados == 5):\n",
        "  print('É um pentágono')\n",
        "else:\n",
        "  print('Digite somente os números 3, 4 ou 5')"
      ],
      "metadata": {
        "colab": {
          "base_uri": "https://localhost:8080/"
        },
        "id": "BQ1hyaRVt0yQ",
        "outputId": "fbc93ced-9f11-42cb-8e9c-ccd113b243d4"
      },
      "execution_count": null,
      "outputs": [
        {
          "output_type": "stream",
          "name": "stdout",
          "text": [
            "Informe o número de lados do polígono: 3\n",
            "Digite a base do polígono: 20\n",
            "Digite a altura do polígono15\n",
            "É um triângulo e sua área é: 150.0\n"
          ]
        }
      ]
    },
    {
      "cell_type": "code",
      "source": [
        "# Questão 8\n",
        "\n",
        "lados = int(input('Informe o número de lados do polígono: '))\n",
        "area = int\n",
        "\n",
        "if(lados == 3):\n",
        "  base = int(input('Digite a base do polígono: '))\n",
        "  altura = int(input('Digite a altura do polígono: '))\n",
        "  area = (base * altura)/2\n",
        "  print('É um triângulo e sua área é:', area)\n",
        "elif(lados == 4):\n",
        "  lado = int(input('Digite o tamanho dos lados: '))\n",
        "  area = lado * lado\n",
        "  print('É um quadrado e sua área é:', area)\n",
        "elif(lados == 5):\n",
        "  print('É um pentágono')\n",
        "elif(lados < 3):\n",
        "  print('Não é um polígono')\n",
        "else:\n",
        "  print('Polígono não identificado')\n"
      ],
      "metadata": {
        "colab": {
          "base_uri": "https://localhost:8080/"
        },
        "id": "I5wKiR3jxJvH",
        "outputId": "3fff5561-5905-45d6-81f5-ca8e18a2a571"
      },
      "execution_count": null,
      "outputs": [
        {
          "output_type": "stream",
          "name": "stdout",
          "text": [
            "Informe o número de lados do polígono: 8\n",
            "Polígono não identificado\n"
          ]
        }
      ]
    },
    {
      "cell_type": "code",
      "source": [
        "# Questão 9\n",
        "\n",
        "num1 = int(input('Escreva o primeiro número: '))\n",
        "num2 = int(input('Escreva o segundo número: '))\n",
        "num3 = int(input('Escreva o terceiro número: '))\n",
        "\n",
        "if(num1 > num2 and num1 > num3):\n",
        "  print(num1)\n",
        "elif(num2 > num1 and num2 > num3):\n",
        "  print(num2)\n",
        "elif(num3 > num1 and num3 > num2):\n",
        "  print(num3)\n",
        "else:\n",
        "  print('Dois ou mais números têm o mesmo valor')"
      ],
      "metadata": {
        "colab": {
          "base_uri": "https://localhost:8080/"
        },
        "id": "_VxqcxVUxph3",
        "outputId": "98ee403b-b322-4193-c883-c10fd22f260d"
      },
      "execution_count": null,
      "outputs": [
        {
          "output_type": "stream",
          "name": "stdout",
          "text": [
            "Escreva o primeiro número: 90\n",
            "Escreva o segundo número: 70\n",
            "Escreva o terceiro número: 50\n",
            "90\n"
          ]
        }
      ]
    },
    {
      "cell_type": "code",
      "source": [
        "# Questão 10\n",
        "\n",
        "a = float(input('Primeiro lado: '))\n",
        "b = float(input('Segundo  lado: '))\n",
        "c = float(input('Terceiro lado: '))\n",
        "    \n",
        "\n",
        "if(a + b < c) or (a + c < b) or (b + c < a):\n",
        "      print('Não é um triangulo')\n",
        "elif(a == b) and (a == c) :\n",
        "      print('Equilatero')\n",
        "elif(a == b) or (a == c) or (b == c):\n",
        "      print('Isósceles')\n",
        "else:\n",
        "      print('Escaleno')"
      ],
      "metadata": {
        "colab": {
          "base_uri": "https://localhost:8080/"
        },
        "id": "43xCxSnqyuMf",
        "outputId": "980135ef-89ef-48f0-9d4d-a15707ce6941"
      },
      "execution_count": null,
      "outputs": [
        {
          "output_type": "stream",
          "name": "stdout",
          "text": [
            "Primeiro lado: 7\n",
            "Segundo  lado: 8\n",
            "Terceiro lado: 7\n",
            "Isósceles\n"
          ]
        }
      ]
    },
    {
      "cell_type": "code",
      "source": [
        "# Questão 11\n",
        "\n",
        "a = float(input('Primeiro lado: '))\n",
        "b = float(input('Segundo  lado: '))\n",
        "c = float(input('Terceiro lado: '))\n",
        "\n",
        "if(a == 90 or b == 90 or c == 90):\n",
        "  print('É um triângulo retângulo')\n",
        "elif(a > 90 or b > 90 or c > 90):\n",
        "  print('É um triângulo obtuso')\n",
        "else:\n",
        "  print('É um triângulo agudo')"
      ],
      "metadata": {
        "colab": {
          "base_uri": "https://localhost:8080/"
        },
        "id": "GGWgIRpFzXMn",
        "outputId": "08c0af1f-c475-42f1-c47e-8bbed1c6fe60"
      },
      "execution_count": null,
      "outputs": [
        {
          "output_type": "stream",
          "name": "stdout",
          "text": [
            "Primeiro lado: 90\n",
            "Segundo  lado: 80\n",
            "Terceiro lado: 70\n",
            "É um triângulo retângulo\n"
          ]
        }
      ]
    },
    {
      "cell_type": "code",
      "source": [
        "# Questão 12\n",
        "\n",
        "combustivel = input(\"Digite A para álcool ou G para gasolina: \").upper()\n",
        "litros = float(input(\"Digite quantos litros você quer abastecer: \"))\n",
        "\n",
        "if(combustivel == \"A\"):\n",
        "    preco = litros * 1.9\n",
        "    if(litros <= 20):\n",
        "        preco -= 1.9 * litros * 3 / 100\n",
        "    else:\n",
        "        preco -= 1.9 * litros * 5 / 100\n",
        "elif(combustivel == \"G\"):\n",
        "    preco = litros * 2.5\n",
        "    if(litros <= 20):\n",
        "        preco -= 2.5 * litros * 4 / 100\n",
        "    else:\n",
        "        preco -= 2.5 * litros * 6 / 100\n",
        "print(\"O preço a pagar é de R$\", preco)"
      ],
      "metadata": {
        "colab": {
          "base_uri": "https://localhost:8080/"
        },
        "id": "hZnju7ww1T6F",
        "outputId": "daf4c94c-3123-4dbc-8227-01cea8c70531"
      },
      "execution_count": null,
      "outputs": [
        {
          "output_type": "stream",
          "name": "stdout",
          "text": [
            "Digite A para álcool ou G para gasolina: G\n",
            "Digite quantos litros você quer abastecer: 5\n",
            "O preço a pagar é de R$ 12.0\n"
          ]
        }
      ]
    },
    {
      "cell_type": "code",
      "source": [
        "# Exercício 12/07\n",
        "\n",
        "soma = 0\n",
        "quantMulheres = 0\n",
        "media = 0\n",
        "menor = 200\n",
        "novo = ''\n",
        "\n",
        "for quant in range(1,6):\n",
        "\n",
        "    nome = input('Digite o seu nome: ')\n",
        "    idade = int(input('Digite a sua idade : '))\n",
        "    sexo = input('Digite o seu gênero: ').upper()\n",
        "    print('-'*20)\n",
        "\n",
        "    soma = soma + idade\n",
        "    media = soma / quant\n",
        "\n",
        "    if sexo == 'M' and idade < menor:\n",
        "        menor = idade\n",
        "        novo = nome\n",
        "\n",
        "    if sexo == 'F' and idade > 20:\n",
        "        quantMulheres += 1\n",
        "\n",
        "print('A média das idades é de: {}'.format(media))\n",
        "print('O nome do mais novo é: {}'.format(novo))\n",
        "\n",
        "if quantMulheres == 0:\n",
        "    print('Não há mulheres no grupo')\n",
        "\n",
        "else:\n",
        "    print('Ao todo {} mulheres tem mais de 20 anos'.format(quantMulheres))"
      ],
      "metadata": {
        "colab": {
          "base_uri": "https://localhost:8080/"
        },
        "id": "vZwhwfUQ6ss7",
        "outputId": "8468de60-7949-4fbb-d341-231fda058b3b"
      },
      "execution_count": null,
      "outputs": [
        {
          "output_type": "stream",
          "name": "stdout",
          "text": [
            "Digite o seu nome: Mateus\n",
            "Digite a sua idade : 30\n",
            "Digite o seu gênero: M\n",
            "--------------------\n",
            "Digite o seu nome: Davi\n",
            "Digite a sua idade : 17\n",
            "Digite o seu gênero: M\n",
            "--------------------\n",
            "Digite o seu nome: Akio\n",
            "Digite a sua idade : 31\n",
            "Digite o seu gênero: M\n",
            "--------------------\n",
            "Digite o seu nome: Sayu\n",
            "Digite a sua idade : 32\n",
            "Digite o seu gênero: F\n",
            "--------------------\n",
            "Digite o seu nome: Lo\n",
            "Digite a sua idade : 30\n",
            "Digite o seu gênero: F\n",
            "--------------------\n",
            "A média das idades é de: 28.0\n",
            "O nome do mais novo é: Davi\n",
            "Ao todo 2 mulheres tem mais de 20 anos\n"
          ]
        }
      ]
    },
    {
      "cell_type": "code",
      "source": [
        "# Exercício 13/07\n",
        "\n",
        "horas = int(input('Digite a quantidade de horas trabalhadas'))\n",
        "valorHora = float(input('Digite o valor da hora trabalhada'))\n",
        "\n",
        "bruto = horas * valorHora\n",
        "inss = 10\n",
        "fgts = 11\n",
        "ir = 0\n",
        "\n",
        "if(bruto <= 900):\n",
        "    ir = 0\n",
        "elif(bruto <= 1500):\n",
        "    ir = 5\n",
        "elif(bruto <= 2500):\n",
        "    ir = 10\n",
        "elif(bruto > 2500):\n",
        "    ir = 20\n",
        "\n",
        "\n",
        "valorIr = bruto *  (ir / 100)\n",
        "valorInss = bruto * (inss / 100)\n",
        "valorFgts = bruto * (fgts / 100)\n",
        "descontos = valorInss + valorIr\n",
        "liquido = bruto - valorInss - valorIr \n",
        "\n",
        "print('Salário Bruto (R$ {} x {}) :R$ {}'.format(round(valorHora, 2), horas, round(bruto, 2)))\n",
        "print('( - ) IR ({} %)            :R$ {}'.format(ir, round(valorIr, 2)))\n",
        "print('( - ) INSS ({} %)          :R$ {}'.format(inss, round(valorInss, 2)))\n",
        "print('FGTS ({} %)                :R$ {}'.format(fgts, round(valorFgts, 2)))\n",
        "print('Total de descontos         :R$ {}'.format(round(descontos, 2)))\n",
        "print('Salário Líquido            :R$ {}'.format(round(liquido, 2)))"
      ],
      "metadata": {
        "id": "Blf6B4cCktY5"
      },
      "execution_count": null,
      "outputs": []
    },
    {
      "cell_type": "code",
      "source": [
        "# Ler um vetor com 10 nomes de pessoas, após pedir que o usuário digite um nome qualquer de pessoa. Escrever a mensagem “ACHEI”, se o nome estiver armazenado no vetor C ou “NÃO ACHEI” caso contrário.\n",
        "\n",
        "def perguntaNome(msg): # Criei uma função para receber inputs\n",
        "  return input(msg)\n",
        "\n",
        "nomes = [] # eu criei um vetor\n",
        "\n",
        "for i in range(3):\n",
        "  nomes.append(perguntaNome('Cadastre um nome: '))\n",
        "\n",
        "nome = perguntaNome('Pesquise um nome: ')\n",
        "\n",
        "if nome in nomes:\n",
        "  print('Achei')\n",
        "else:\n",
        "  print('Não achei')"
      ],
      "metadata": {
        "colab": {
          "base_uri": "https://localhost:8080/"
        },
        "id": "13iUXTVEwBnd",
        "outputId": "66fe6dc7-baae-423c-8d6f-6b4a98ab0854"
      },
      "execution_count": null,
      "outputs": [
        {
          "output_type": "stream",
          "name": "stdout",
          "text": [
            "Cadastre um nome: Matt\n",
            "Cadastre um nome: John\n",
            "Cadastre um nome: Silver\n",
            "Pesquise um nome: Blaze\n",
            "Não achei\n"
          ]
        }
      ]
    },
    {
      "cell_type": "code",
      "source": [
        "''' \n",
        "1. Faca um programa que possua um vetor denominado A que armazene 6 numeros intei- ´\n",
        "ros. O programa deve executar os seguintes passos:\n",
        "    (a) Atribua os seguintes valores a esse vetor: 1, 0, 5, -2, -5, 7.\n",
        "    (b) Armazene em uma variavel inteira (simples) a soma entre os valores das posic¸ ´ oes ˜\n",
        "    A[0], A[1] e A[5] do vetor e mostre na tela esta soma.\n",
        "    (c) Modifique o vetor na posic¸ao 4, atribuindo a esta posic¸ ˜ ao o valor 100. ˜\n",
        "    (d) Mostre na tela cada valor do vetor A, um em cada linha.\n",
        "\n",
        "'''\n",
        "\n",
        "def somarLista(x, y, z):\n",
        "  return A[x] + A[y] + A[z]\n",
        "\n",
        "def altertarLista(indice, valor):\n",
        "  A[indice] = valor\n",
        "\n",
        "def listarItens():\n",
        "    print('LISTA')\n",
        "    for valor in A:\n",
        "      print(valor)\n",
        "\n",
        "A = [1, 0, 5, -2, -5, 7]\n",
        "\n",
        "soma = somarLista(0, 1, 5)\n",
        "print(f'O total do somatório foi {soma}')\n",
        "\n",
        "# Alterar o valor da lista pelo índice\n",
        "altertarLista(4, 100)\n",
        "\n",
        "# Exibir cada valor da lista em uma linha\n",
        "listarItens()"
      ],
      "metadata": {
        "colab": {
          "base_uri": "https://localhost:8080/"
        },
        "id": "7xHeDLUmwOEw",
        "outputId": "a72751fc-add9-46b8-e27c-4dcfb4bd3e4e"
      },
      "execution_count": null,
      "outputs": [
        {
          "output_type": "stream",
          "name": "stdout",
          "text": [
            "O total do somatório foi 8\n",
            "LISTA\n",
            "1\n",
            "0\n",
            "5\n",
            "-2\n",
            "100\n",
            "7\n"
          ]
        }
      ]
    },
    {
      "cell_type": "code",
      "source": [
        "# 2 Crie um programa que lê 6 valores inteiros e, em seguida, mostre na tela os valores lidos.\n",
        "\n",
        "def testarInteiro(teste):\n",
        "  while(True):\n",
        "    if(teste.isnumeric()):\n",
        "      return int(teste)\n",
        "    else:\n",
        "      teste = input('Digite um número inteiro R: ')\n",
        "\n",
        "def receberValores():\n",
        "  valor = input('Digite um número inteiro R: ')\n",
        "  return testarInteiro(valor)\n",
        "\n",
        "def salvarValores(qnt):\n",
        "  for i in range(qnt):\n",
        "    valores.append(receberValores())\n",
        "\n",
        "valores = []\n",
        "\n",
        "salvarValores(6)\n",
        "print(valores)"
      ],
      "metadata": {
        "colab": {
          "base_uri": "https://localhost:8080/"
        },
        "id": "-3Yy03yTyHDw",
        "outputId": "943d9b4c-6a9d-4a26-a842-e5e990473330"
      },
      "execution_count": null,
      "outputs": [
        {
          "output_type": "stream",
          "name": "stdout",
          "text": [
            "Digite um número inteiro R: ahshjs\n",
            "Digite um número inteiro R: 6\n",
            "Digite um número inteiro R: 7\n",
            "Digite um número inteiro R: 8\n",
            "Digite um número inteiro R: 9\n",
            "Digite um número inteiro R: 10\n",
            "Digite um número inteiro R: 11\n",
            "[6, 7, 8, 9, 10, 11]\n"
          ]
        }
      ]
    },
    {
      "cell_type": "code",
      "source": [
        "''' \n",
        "    3. Ler um conjunto de numeros reais, armazenando-o em vetor e calcular o quadrado das ´\n",
        "    componentes deste vetor, armazenando o resultado em outro vetor. Os conjuntos temˆ\n",
        "    10 elementos cada. Imprimir todos os conjuntos.\n",
        "\n",
        "'''\n",
        "\n",
        "def lerNumerosReais():\n",
        "  return float(input('Digite um número: '))\n",
        "\n",
        "def gravarNumeros(qnt):\n",
        "  for i in range(qnt):\n",
        "    numeros.append(lerNumerosReais())\n",
        "  gerarQuadradoNumeros()\n",
        "\n",
        "def gerarQuadradoNumeros():\n",
        "  for i in range(len(numeros)):\n",
        "    numerosQuadrados.append(numeros[i] * numeros[i])\n",
        "\n",
        "numeros = []\n",
        "numerosQuadrados = []\n",
        "\n",
        "gravarNumeros(3)\n",
        "print(numeros)\n",
        "print(numerosQuadrados)"
      ],
      "metadata": {
        "colab": {
          "base_uri": "https://localhost:8080/"
        },
        "id": "8aY4OX_L0i-_",
        "outputId": "2b47c705-129a-4f80-abe0-5f5d64058552"
      },
      "execution_count": null,
      "outputs": [
        {
          "output_type": "stream",
          "name": "stdout",
          "text": [
            "Digite um número: 15\n",
            "Digite um número: 20\n",
            "Digite um número: 100\n",
            "[15.0, 20.0, 100.0]\n",
            "[225.0, 400.0, 10000.0]\n"
          ]
        }
      ]
    },
    {
      "cell_type": "code",
      "source": [
        "''' \n",
        "    4. Fazer um menu de uma plataforma que pode LOGAR, CADASTRAR, LISTAR USUARIO / SENHA e  SAIR\n",
        "    (a) Login -> Usuario e Senha\n",
        "        (1) Usuário deve ser encontrado no banco\n",
        "        (2) Senha deve ser igual a do usuário do banco\n",
        "        (3) Exibir error se o usuário não for encontrado\n",
        "        (4) Exibir erro de senha, se não for igual\n",
        "        (5) Exibir msg logado\n",
        "    (b) Cadastrar -> Usuário, senha e confirmar senha \n",
        "        (1) Usuário deve ser único no banco\n",
        "        (2) Senhas deve ser iguais, maiores que 5 caracteres e alfanumericos\n",
        "        (3) Exibir error se o usuário ja estiver cadastrado e pedir para usar novo Usuário\n",
        "        (4) Exibir erro de senha, se for menor que 6 e se não forem iguais \n",
        "        (5) Exibir msg de cadastrado e Voltar para o menu de login\n",
        "    (c) Listar Usuario e Senha\n",
        "        (1) Nome ususario -  ***\n",
        "    (d) SAIR\n",
        "'''\n",
        "\n",
        "def linhas(qnt):\n",
        "  print('=' * (qnt +1))\n",
        "\n",
        "def exibirMensagem(msg):\n",
        "  linhas(len(msg))\n",
        "  print(msg)\n",
        "  linhas(len(msg))\n",
        "\n",
        "def menu():\n",
        "  exibirMensagem('PADARIA SONHO DOCE')\n",
        "  return int(input(' 1 - LOGAR \\n 2 - CADASTRAR \\n 3 - LISTAR \\n 4 - SAIR \\n R: '))\n",
        "\n",
        "def listarUsuario():\n",
        "  exibirMensagem('LISTA DE USUÁRIOS')\n",
        "  for i in range(len(usuarios)): #3\n",
        "    print(f'Usuário {usuarios[i]} - Senha: {senhas[i]}' )\n",
        "  linhas(20)\n",
        "\n",
        "def receberDadosDoUsuário(msg):\n",
        "  return input(msg)\n",
        "\n",
        "def verificaUsuario(usuario):\n",
        "  if (usuario in usuarios):\n",
        "    return True\n",
        "  else:\n",
        "    return False\n",
        "#                  Kenji\n",
        "def verificaSenha(usuario, senha):\n",
        "    if(usuario in usuarios):\n",
        "      indice = usuarios.index(usuario) # Retornar o índice do Kenji\n",
        "      if(senha == senhas[indice]):\n",
        "        return True\n",
        "      else:\n",
        "        return False  \n",
        "    else:\n",
        "      return False\n",
        "\n",
        "def logar():\n",
        "  usuario = receberDadosDoUsuário('Digite seu nome de usuário R: ')\n",
        "  if(not verificaUsuario(usuario)):\n",
        "    exibirMensagem('ERROR: Usuário não encontrado!')\n",
        "    return False\n",
        "  else:\n",
        "    senha = receberDadosDoUsuário('Digite a sua senha R: ')\n",
        "    if(not verificaSenha(usuario, senha)):\n",
        "      exibirMensagem('ERROR: Senha incorreta!')\n",
        "      return False\n",
        "    else:\n",
        "      return True\n",
        "\n",
        "def cadastrar():\n",
        "  while(True):\n",
        "    usuario = receberDadosDoUsuário('Digite um nome de usuário R: ')\n",
        "    if(verificaUsuario(usuario)):\n",
        "      exibirMensagem('ERROR: Usuário já cadastrado.\\nEscolha outro nome de usuário')\n",
        "    else:  \n",
        "      senha = receberDadosDoUsuário('Digite sua senha R: ')\n",
        "      if(len(senha) < 6 or not senha.isalnum()):\n",
        "        exibirMensagem('ERROR: Senha deve ter mais de 6 caracteres e ser alfanumérica')\n",
        "      else:\n",
        "        confirmaSenha = receberDadosDoUsuário('Confirme a senha R: ')\n",
        "        if(senha != confirmaSenha):\n",
        "          exibirMensagem('As senhas devem ser identicas')\n",
        "        else:\n",
        "          usuarios.append(usuario)\n",
        "          senhas.append(senha)\n",
        "          exibirMensagem(f'Usuário {usuario} cadastrado com sucesso')\n",
        "          break\n",
        "\n",
        "escolhaDoMenu = 0\n",
        "#             0        1\n",
        "usuarios = ['Kenji', 'Akio']\n",
        "senhas = ['123456987', '2580']\n",
        "\n",
        "while(True):\n",
        "  escolhaDoMenu = menu()\n",
        "  if(escolhaDoMenu == 1):\n",
        "    if(logar()):\n",
        "      exibirMensagem('Usuário conectado com sucesso!')\n",
        "      break\n",
        "  elif(escolhaDoMenu == 2):\n",
        "    cadastrar()\n",
        "  elif(escolhaDoMenu == 3):\n",
        "    listarUsuario()\n",
        "  else:\n",
        "    print('Sair')\n",
        "    break"
      ],
      "metadata": {
        "colab": {
          "base_uri": "https://localhost:8080/"
        },
        "id": "bg1TJUaL2tKv",
        "outputId": "2527ca96-8c2e-48ab-8326-ce0f4fc3810e"
      },
      "execution_count": null,
      "outputs": [
        {
          "output_type": "stream",
          "name": "stdout",
          "text": [
            "===================\n",
            "PADARIA SONHO DOCE\n",
            "===================\n",
            " 1 - LOGAR \n",
            " 2 - CADASTRAR \n",
            " 3 - LISTAR \n",
            " 4 - SAIR \n",
            " R: 2\n",
            "Digite um nome de usuário R: Sayuzin\n",
            "Digite sua senha R: 777666\n",
            "Confirme a senha R: 777666\n",
            "=======================================\n",
            "Usuário Sayuzin cadastrado com sucesso\n",
            "=======================================\n",
            "===================\n",
            "PADARIA SONHO DOCE\n",
            "===================\n",
            " 1 - LOGAR \n",
            " 2 - CADASTRAR \n",
            " 3 - LISTAR \n",
            " 4 - SAIR \n",
            " R: 3\n",
            "==================\n",
            "LISTA DE USUÁRIOS\n",
            "==================\n",
            "Usuário Kenji - Senha: 123456987\n",
            "Usuário Akio - Senha: 2580\n",
            "Usuário Sayuzin - Senha: 777666\n",
            "=====================\n",
            "===================\n",
            "PADARIA SONHO DOCE\n",
            "===================\n",
            " 1 - LOGAR \n",
            " 2 - CADASTRAR \n",
            " 3 - LISTAR \n",
            " 4 - SAIR \n",
            " R: 4\n",
            "Sair\n"
          ]
        }
      ]
    },
    {
      "cell_type": "code",
      "source": [
        "'''\n",
        "#4 Faça um programa que leia um vetor de 8 posições e, em seguida, leia também dois\n",
        "valores X e Y quaisquer correspondentes a duas posições no vetor. Ao final seu programa\n",
        "deverá escrever a soma dos valores encontrados nas respectivas posições X e Y.\n",
        "'''\n",
        "\n",
        "lista = [25, 30, -45, 85, 26, 100, -2, 60]\n",
        "\n",
        "x = lista[1]\n",
        "y = lista[5]\n",
        "\n",
        "soma = x + y\n",
        "\n",
        "print('Os dois valores do vetor foram:', x, y)\n",
        "print('A soma dos dois valores é:', soma)"
      ],
      "metadata": {
        "id": "aZSDZUmWdDPw",
        "colab": {
          "base_uri": "https://localhost:8080/"
        },
        "outputId": "ec96ec32-6dc4-4f3a-c24a-d0d11e973a42"
      },
      "execution_count": null,
      "outputs": [
        {
          "output_type": "stream",
          "name": "stdout",
          "text": [
            "Os dois valores do vetor foram:  30 100\n",
            "A soma dos dois valores é:  130\n"
          ]
        }
      ]
    },
    {
      "cell_type": "code",
      "source": [
        "'''\n",
        "#5 Leia um vetor de 10 posições. Contar e escrever quantos valores pares ele possui.\n",
        "'''\n",
        "\n",
        "def inputUser():\n",
        "  return int(input('Digite um numero: '))\n",
        "\n",
        "posicao =[]\n",
        "for i in range(0, 10):\n",
        "  posicao.append(inputUser())\n",
        "\n",
        "contador = 0 \n",
        "for num in posicao:\n",
        "  if(num % 2 == 0):\n",
        "    contador = contador + 1\n",
        "\n",
        "print('Quantidade de números pares é:', contador)\n"
      ],
      "metadata": {
        "id": "zlGvHlBBnrpv",
        "colab": {
          "base_uri": "https://localhost:8080/"
        },
        "outputId": "60da792b-daca-43e9-caed-4216b172b17a"
      },
      "execution_count": null,
      "outputs": [
        {
          "output_type": "stream",
          "name": "stdout",
          "text": [
            "Digite um numero: 5\n",
            "Digite um numero: 10\n",
            "Digite um numero: 2\n",
            "Digite um numero: 6\n",
            "Digite um numero: 12\n",
            "Digite um numero: 13\n",
            "Digite um numero: 4\n",
            "Digite um numero: 1\n",
            "Digite um numero: 11\n",
            "Digite um numero: 8\n",
            "Quantidade de números pares é: 6\n"
          ]
        }
      ]
    },
    {
      "cell_type": "code",
      "source": [
        "'''\n",
        "#6 Faça um programa que receba do usuário um vetor com 10 posições. Em seguida, deverá ser impresso o maior e o menor elemento do vetor.\n",
        "'''\n",
        "\n",
        "def inputUser():\n",
        "  return int(input('Digite um número: '))\n",
        "\n",
        "posicao = []\n",
        "for i in range(0, 10):\n",
        "  posicao.append(inputUser())\n",
        "\n",
        "print(posicao)\n",
        "print(f' Menor número {min(posicao)}')\n",
        "print(f' Maior número {max(posicao)}')"
      ],
      "metadata": {
        "id": "N6_S2Zkhge-v",
        "colab": {
          "base_uri": "https://localhost:8080/"
        },
        "outputId": "66e9c965-764d-4b14-ba97-2279f00c2aae"
      },
      "execution_count": null,
      "outputs": [
        {
          "output_type": "stream",
          "name": "stdout",
          "text": [
            "Digite um número: 1\n",
            "Digite um número: 15\n",
            "Digite um número: 5\n",
            "Digite um número: 5\n",
            "Digite um número: 5\n",
            "Digite um número: 5\n",
            "Digite um número: 5\n",
            "Digite um número: 5\n",
            "Digite um número: 5\n",
            "Digite um número: 5\n",
            "[1, 15, 5, 5, 5, 5, 5, 5, 5, 5]\n",
            " Menor número 1\n",
            " Maior número 15\n"
          ]
        }
      ]
    },
    {
      "cell_type": "code",
      "source": [
        "'''\n",
        "#7 Escreva um programa que leia 10 números inteiros e os armazene em um vetor. Imprima o vetor, o maior elemento e a posição em que ele se encontra.\n",
        "'''\n",
        "\n",
        "def inputUser():\n",
        "  return int(input('Digite um numero: '))\n",
        "\n",
        "posicao =[]\n",
        "for i in range(0, 10):\n",
        "  posicao.append(inputUser())\n",
        "\n",
        "print(posicao)\n",
        "print(max(posicao))\n",
        "print(posicao.index(max(posicao)))"
      ],
      "metadata": {
        "colab": {
          "base_uri": "https://localhost:8080/"
        },
        "id": "Iby8c_NhtBTh",
        "outputId": "a8978849-2e90-49a4-cd0c-85759519b713"
      },
      "execution_count": null,
      "outputs": [
        {
          "output_type": "stream",
          "name": "stdout",
          "text": [
            "Digite um numero: 10\n",
            "Digite um numero: 5\n",
            "Digite um numero: 8\n",
            "Digite um numero: 15\n",
            "Digite um numero: 12\n",
            "Digite um numero: 7\n",
            "Digite um numero: 2\n",
            "Digite um numero: 3\n",
            "Digite um numero: 11\n",
            "Digite um numero: 9\n",
            "[10, 5, 8, 15, 12, 7, 2, 3, 11, 9]\n",
            "15\n",
            "3\n"
          ]
        }
      ]
    },
    {
      "cell_type": "code",
      "source": [
        "'''\n",
        "#8 Crie um programa que leia 6 valores inteiros e em seguida mostre na tela os valores lidos em ordem inversa.\n",
        "'''\n",
        "\n",
        "def inputUser():\n",
        "  return int(input('Digite um numero: '))\n",
        "\n",
        "posicao =[]\n",
        "for i in range(0, 6):\n",
        "  posicao.append(inputUser())\n",
        "\n",
        "print(posicao)\n",
        "posicao.sort(reverse = True)\n",
        "print(posicao)"
      ],
      "metadata": {
        "colab": {
          "base_uri": "https://localhost:8080/"
        },
        "id": "8dlhvYYozOB2",
        "outputId": "0ddbf858-939f-44b0-bb50-375897f11793"
      },
      "execution_count": null,
      "outputs": [
        {
          "output_type": "stream",
          "name": "stdout",
          "text": [
            "Digite um numero: 1\n",
            "Digite um numero: 2\n",
            "Digite um numero: 3\n",
            "Digite um numero: 4\n",
            "Digite um numero: 5\n",
            "Digite um numero: 6\n",
            "[1, 2, 3, 4, 5, 6]\n",
            "[6, 5, 4, 3, 2, 1]\n"
          ]
        }
      ]
    },
    {
      "cell_type": "code",
      "source": [
        "'''\n",
        "#9 Crie um programa que leia 6 valores inteiros e paresm e em seguida mostre na tela os valores lidos na ordem inversa.\n",
        "'''\n",
        "\n",
        "def inputUser():\n",
        "  return int(input('Digite um numero: '))\n",
        "\n",
        "posicao =[]\n",
        "for i in range(0, 6):\n",
        "  posicao.append(inputUser())\n",
        "\n",
        "contador = 0\n",
        "for inputUser in posicao:\n",
        "  if(inputUser % 2 == 0):\n",
        "    contador = contador + 1\n",
        "\n",
        "print(posicao)\n",
        "posicao.sort(reverse = True)\n",
        "print(posicao)\n",
        "print('Quantidade de números pares é:', contador)"
      ],
      "metadata": {
        "colab": {
          "base_uri": "https://localhost:8080/"
        },
        "id": "dZq8YeVPz3kl",
        "outputId": "a18ec914-88d0-4cc9-81e2-d0445a36f116"
      },
      "execution_count": null,
      "outputs": [
        {
          "output_type": "stream",
          "name": "stdout",
          "text": [
            "Digite um numero: 15\n",
            "Digite um numero: 6\n",
            "Digite um numero: 2\n",
            "Digite um numero: 11\n",
            "Digite um numero: 8\n",
            "Digite um numero: 9\n",
            "[15, 6, 2, 11, 8, 9]\n",
            "[15, 11, 9, 8, 6, 2]\n",
            "Quantidade de números pares é: 3\n"
          ]
        }
      ]
    },
    {
      "cell_type": "code",
      "source": [
        "'''\n",
        "#10 Faça um programa ler a nota da prova de 15 alunos e armazene em um vetor, calcule e imprima a média geral\n",
        "'''\n",
        "\n",
        "def inputUser():\n",
        "  return int(input('Digite a nota do aluno: '))\n",
        "\n",
        "notas =[]\n",
        "for i in range(0, 15):\n",
        "  notas.append(inputUser())\n",
        "\n",
        "print(notas)\n",
        "media = sum(notas) / len(notas)\n",
        "print(media)"
      ],
      "metadata": {
        "colab": {
          "base_uri": "https://localhost:8080/"
        },
        "id": "IxJtD6wB0tv9",
        "outputId": "68ac3583-920e-4d06-f405-894c7bb8eb0e"
      },
      "execution_count": null,
      "outputs": [
        {
          "output_type": "stream",
          "name": "stdout",
          "text": [
            "Digite a nota do aluno: 10\n",
            "Digite a nota do aluno: 9\n",
            "Digite a nota do aluno: 9\n",
            "Digite a nota do aluno: 9\n",
            "Digite a nota do aluno: 10\n",
            "Digite a nota do aluno: 10\n",
            "Digite a nota do aluno: 10\n",
            "Digite a nota do aluno: 10\n",
            "Digite a nota do aluno: 10\n",
            "Digite a nota do aluno: 10\n",
            "Digite a nota do aluno: 10\n",
            "Digite a nota do aluno: 10\n",
            "Digite a nota do aluno: 10\n",
            "Digite a nota do aluno: 10\n",
            "Digite a nota do aluno: 10\n",
            "[10, 9, 9, 9, 10, 10, 10, 10, 10, 10, 10, 10, 10, 10, 10]\n",
            "9.8\n"
          ]
        }
      ]
    },
    {
      "cell_type": "code",
      "source": [
        "'''\n",
        "#11 Faça um programa que preencha um vetor com 10 números reais, calcule e mostre a quantidade de números negativos e a soma dos números positivos desse vetor.\n",
        "'''\n",
        "\n",
        "def inputUser():\n",
        "  return int(input('Digite um numero: '))\n",
        "\n",
        "posicao =[]\n",
        "for i in range(0, 10):\n",
        "  posicao.append(inputUser())"
      ],
      "metadata": {
        "id": "61CPprvI1qx8"
      },
      "execution_count": null,
      "outputs": []
    },
    {
      "cell_type": "code",
      "source": [
        "'''\n",
        "#12 Fazer um programa para ler 5 valores e em seguida mostrar todos os valores lidos juntamente com o maior, o menor e a média dos valores.\n",
        "'''\n",
        "\n",
        "def inputUser():\n",
        "  return int(input('Digite um numero: '))\n",
        "\n",
        "valor =[]\n",
        "for i in range(0, 5):\n",
        "  valor.append(inputUser())\n",
        "\n",
        "media = sum(valor) / len(valor)\n",
        "\n",
        "print(valor)\n",
        "print(max(valor))\n",
        "print(min(valor))\n",
        "print(media)"
      ],
      "metadata": {
        "colab": {
          "base_uri": "https://localhost:8080/"
        },
        "id": "IcFAW5L46xFE",
        "outputId": "929a2cc0-7e8c-4066-8436-40425c8c4b02"
      },
      "execution_count": null,
      "outputs": [
        {
          "output_type": "stream",
          "name": "stdout",
          "text": [
            "Digite um numero: 10\n",
            "Digite um numero: 9\n",
            "Digite um numero: 10\n",
            "Digite um numero: 9\n",
            "Digite um numero: 9\n",
            "[10, 9, 10, 9, 9]\n",
            "10\n",
            "9\n",
            "9.4\n"
          ]
        }
      ]
    },
    {
      "cell_type": "code",
      "source": [
        "'''\n",
        "#13 Fazer um programa para ler 5 valores e em seguida mostrar a posição onde se encontram o maior e o menor valor.\n",
        "'''\n",
        "\n",
        "def inputUser():\n",
        "  return int(input('Digite um numero: '))\n",
        "\n",
        "posicao =[]\n",
        "for i in range(0, 5):\n",
        "  posicao.append(inputUser())\n",
        "\n",
        "print(posicao)\n",
        "print(posicao.index(max(posicao)))\n",
        "print(posicao.index(min(posicao)))"
      ],
      "metadata": {
        "colab": {
          "base_uri": "https://localhost:8080/"
        },
        "id": "bdhcYIAb7c_t",
        "outputId": "2266f2c9-f41b-411a-c3ab-139828d00ece"
      },
      "execution_count": null,
      "outputs": [
        {
          "output_type": "stream",
          "name": "stdout",
          "text": [
            "Digite um numero: 200\n",
            "Digite um numero: 100\n",
            "Digite um numero: 1\n",
            "Digite um numero: 2\n",
            "Digite um numero: 10\n",
            "[200, 100, 1, 2, 10]\n",
            "0\n",
            "2\n"
          ]
        }
      ]
    },
    {
      "cell_type": "code",
      "source": [
        "'''\n",
        "#14 Faça um programa que leia um vetor de 10 posições e verifique se existem valores iguais e os escreva na tela.\n",
        "'''\n",
        "\n",
        "list = [1, 2, 1, 2, 3, 4, 5, 1, 1, 2, 5, 6, 7, 8, 9, 9]\n",
        " \n",
        "novaLista = []\n",
        " \n",
        "for i in list:\n",
        "\n",
        "    num = list.count(i)\n",
        " \n",
        "    if num > 1:\n",
        " \n",
        "        if novaLista.count(i) == 0:\n",
        " \n",
        "            novaLista.append(i)\n",
        " \n",
        "print(novaLista)\n",
        "\n",
        "'''\n",
        "def counter(lista, num):\n",
        "  contador = 0\n",
        "  for item in lista:\n",
        "    if(item == num):\n",
        "      contador = contador + 1\n",
        "  return contador\n",
        "'''"
      ],
      "metadata": {
        "id": "3u26fNna8bGL",
        "colab": {
          "base_uri": "https://localhost:8080/"
        },
        "outputId": "192d4d65-b7b4-409b-b9f0-494492ae1b64"
      },
      "execution_count": null,
      "outputs": [
        {
          "output_type": "stream",
          "name": "stdout",
          "text": [
            "[1, 2, 5, 9]\n"
          ]
        }
      ]
    },
    {
      "cell_type": "code",
      "source": [
        "numerador = int(input(\"Qual o número que quer que se faça a tabuada: \"))\n",
        "print(\"\\n\")\n",
        "for i in range(1,11):\n",
        "    r = i*numerador\n",
        "    print(\"{} x {} = {}\".format(numerador,i,r))\n",
        "    i = i+1"
      ],
      "metadata": {
        "id": "-AScbnKbjNbv",
        "outputId": "66a73f47-3746-4b6d-8539-4569e482a939",
        "colab": {
          "base_uri": "https://localhost:8080/"
        }
      },
      "execution_count": null,
      "outputs": [
        {
          "output_type": "stream",
          "name": "stdout",
          "text": [
            "Qual o número que quer que se faça a tabuada: 2\n",
            "\n",
            "\n",
            "2 x 1 = 2\n",
            "2 x 2 = 4\n",
            "2 x 3 = 6\n",
            "2 x 4 = 8\n",
            "2 x 5 = 10\n",
            "2 x 6 = 12\n",
            "2 x 7 = 14\n",
            "2 x 8 = 16\n",
            "2 x 9 = 18\n",
            "2 x 10 = 20\n"
          ]
        }
      ]
    },
    {
      "cell_type": "code",
      "source": [
        ""
      ],
      "metadata": {
        "id": "x5DPZVjYjQEz"
      },
      "execution_count": null,
      "outputs": []
    }
  ]
}