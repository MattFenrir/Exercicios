{
  "cells": [
    {
      "cell_type": "code",
      "execution_count": 1,
      "metadata": {
        "colab": {
          "base_uri": "https://localhost:8080/"
        },
        "id": "_va_32wvVei1",
        "outputId": "818c93ca-0655-4841-9dc0-6c35470bcf9f"
      },
      "outputs": [
        {
          "name": "stdout",
          "output_type": "stream",
          "text": [
            "15 10\n",
            "x é o maior valor 15\n",
            "Maior valor é:  15\n"
          ]
        }
      ],
      "source": [
        "# Questão 1\n",
        "\n",
        "x = int(input('Digite um valor: '))\n",
        "y = int(input('Digite outro valor: '))\n",
        "maiorvalor = 0\n",
        "print(x, y)\n",
        "\n",
        "if(x > y):\n",
        "  maiorvalor = x\n",
        "  print('X é o maior valor')\n",
        "elif(y > x):\n",
        "  maiorvalor = y\n",
        "  print('Y é o maior valor')\n",
        "else:\n",
        "  print('Têm o mesmo valor')\n",
        "\n",
        "print('Maior valor é: ', maiorvalor)"
      ]
    },
    {
      "cell_type": "code",
      "execution_count": null,
      "metadata": {
        "colab": {
          "base_uri": "https://localhost:8080/"
        },
        "id": "HdklEwpbipu_",
        "outputId": "51f0d426-10aa-48e6-e6b5-972f528978a9"
      },
      "outputs": [
        {
          "name": "stdout",
          "output_type": "stream",
          "text": [
            "Digite o seu ano de nascimento: 1992\n",
            "Permissão para votar concedida\n"
          ]
        }
      ],
      "source": [
        "# Questão 2\n",
        "\n",
        "nascimento = int(input('Digite o seu ano de nascimento: '))\n",
        "\n",
        "if(nascimento <= 2006):\n",
        "  print('Permissão para votar concedida')\n",
        "else:\n",
        "  print('Permissão para votar negada')\n",
        "\n",
        "''' \n",
        "anoAtual = 2022\n",
        "ano_nascimento = int(input('Digite seu ano de nascimento: (YYYY) '))\n",
        "idade = anoAtual - ano_nascimento\n",
        "\n",
        "if (idade >= 18 and idade <= 70):\n",
        "      print(f'{idade} anos, voto obrigatório!')\n",
        "elif (idade >= 16): # idade > 15 -> Voto\n",
        "      print(f'{idade} anos voto facultativo!')\n",
        "else:\n",
        "      print(f'{idade} anos, não pode votar!)\n",
        "'''"
      ]
    },
    {
      "cell_type": "code",
      "execution_count": null,
      "metadata": {
        "colab": {
          "base_uri": "https://localhost:8080/"
        },
        "id": "HYcIRgHWmLPu",
        "outputId": "6742e8aa-d040-4206-a028-287293029752"
      },
      "outputs": [
        {
          "name": "stdout",
          "output_type": "stream",
          "text": [
            "Digite sua senha: 3421\n",
            "Senha incorreta!\n"
          ]
        }
      ],
      "source": [
        "# Questão 3\n",
        "\n",
        "senha = int(input('Digite sua senha: '))\n",
        "\n",
        "if(senha == 1234):\n",
        "  print('Bem-vindo!')\n",
        "else:\n",
        "  print('Senha incorreta!')"
      ]
    },
    {
      "cell_type": "code",
      "execution_count": null,
      "metadata": {
        "colab": {
          "base_uri": "https://localhost:8080/"
        },
        "id": "Wx0ZliS1nTLM",
        "outputId": "b3de352e-d92d-4215-a82a-ca13c93c2c40"
      },
      "outputs": [
        {
          "name": "stdout",
          "output_type": "stream",
          "text": [
            "Informe o número de maçãs compradas: 6\n",
            "O valor da compra é de: R$ 1.8\n"
          ]
        }
      ],
      "source": [
        "# Questão 4\n",
        "\n",
        "maca = int(input('Informe o número de maçãs compradas: '))\n",
        "\n",
        "if(maca < 12):\n",
        "  preco = maca * 0.30\n",
        "  print('O valor da compra é de: R$', round(preco, 2))\n",
        "else:\n",
        "  preco = maca * 0.25\n",
        "  print('O valor da compra é de: R$', round(preco, 2))\n",
        "\n",
        "'''\n",
        "preco1 = 0.30\n",
        "preco2 = 0.25\n",
        "\n",
        "qnt_comprada = int(input('Digite a quantidade de maçãs compradas: '))\n",
        "\n",
        "if qnt_comprada >= 12:\n",
        "      print('Total da Compra R$', preco2 * qnt_comprada)\n",
        "elif qnt_comprada < 12:\n",
        "      print('Total da compra R$', preco1 * qnt_comprada)\n",
        "'''"
      ]
    },
    {
      "cell_type": "code",
      "execution_count": null,
      "metadata": {
        "colab": {
          "base_uri": "https://localhost:8080/"
        },
        "id": "-rlSKN6yoE6l",
        "outputId": "5d77a4a7-e485-4432-b1d9-e509174d4dd0"
      },
      "outputs": [
        {
          "name": "stdout",
          "output_type": "stream",
          "text": [
            "Escreva o primeiro número: 50\n",
            "Escreva o segundo número: 1\n",
            "Escreva o terceiro número: 30\n",
            "[1, 30, 50]\n"
          ]
        }
      ],
      "source": [
        "# Questão 5\n",
        "\n",
        "num1 = int(input('Escreva o primeiro número: '))\n",
        "num2 = int(input('Escreva o segundo número: '))\n",
        "num3 = int(input('Escreva o terceiro número: '))\n",
        "\n",
        "valores = [num1, num2, num3]\n",
        "print(sorted(valores))\n",
        "\n",
        "'''\n",
        "num1 = int(input('Digite um número: '))\n",
        "num2 = int(input('Digite outro número: '))\n",
        "num3 = int(input('Digite outro número: ')) \n",
        "\n",
        "if num1 > num2 and num1 > num3:\n",
        "    if num2 > num3:\n",
        "        print(f'1 - {num3} \\n2 - {num2} \\n3 - {num1}')\n",
        "    else:\n",
        "        print(f'1 - {num2} \\n2 - {num3} \\n3 - {num1}')\n",
        "elif num2 > num1 and num2 > num3:\n",
        "    if num1 > num3:\n",
        "        print(f'1 - {num3} \\n2 - {num1} \\n3 - {num2}')\n",
        "    else:\n",
        "        print(f'1 - {num1} \\n2 - {num3} \\n3 - {num2}')\n",
        "else:\n",
        "    if num1 > num2:\n",
        "        print(f'1 - {num2} \\n2 - {num1} \\n3 - {num3}')\n",
        "    else:\n",
        "        print(f'1 - {num1} \\n2 - {num2} \\n3 - {num3}')\n",
        "'''"
      ]
    },
    {
      "cell_type": "code",
      "execution_count": null,
      "metadata": {
        "colab": {
          "base_uri": "https://localhost:8080/"
        },
        "id": "rDfVp-tiqXCs",
        "outputId": "aa7f44a1-377d-4a9a-b0b6-a979c476bbf5"
      },
      "outputs": [
        {
          "name": "stdout",
          "output_type": "stream",
          "text": [
            "Digite seu gênero: J\n",
            "Digite sua altura: 1.65\n",
            "Erro\n"
          ]
        }
      ],
      "source": [
        "# Questão 6\n",
        "\n",
        "sexo = input('Digite seu gênero: ').upper()\n",
        "altura = float(input('Digite sua altura: '))\n",
        "peso = float()\n",
        "\n",
        "if(sexo == 'F'):\n",
        "  peso = (62.1 * altura) - 44.7\n",
        "  print('Seu peso ideal é:', peso, 'Kg')\n",
        "elif(sexo == 'M'):\n",
        "  peso = (72.7 * altura) - 58\n",
        "  print('Seu peso ideal é:', peso, 'Kg')\n",
        "else:\n",
        "  print('Erro')\n",
        "\n",
        "'''\n",
        "sexo = int(input('Digite o sexo: (1 - feminino, 2 - masculino)'))\n",
        "altura = int(input('Digite a altura (em cm): '))\n",
        "\n",
        "if sexo == 1:\n",
        "      print('feminino')\n",
        "      formula_peso = (62.1 * (altura/100)) - 44.7\n",
        "      print(f'O peso ideal é de {round(formula_peso, 2)} kg')\n",
        "else:\n",
        "      print('masculino')\n",
        "      formula_peso = (72.7 * (altura/100)) - 58\n",
        "      print(f'O peso ideal é de {round(formula_peso, 2)} kg')\n",
        "'''"
      ]
    },
    {
      "cell_type": "code",
      "execution_count": null,
      "metadata": {
        "colab": {
          "base_uri": "https://localhost:8080/"
        },
        "id": "BQ1hyaRVt0yQ",
        "outputId": "fbc93ced-9f11-42cb-8e9c-ccd113b243d4"
      },
      "outputs": [
        {
          "name": "stdout",
          "output_type": "stream",
          "text": [
            "Informe o número de lados do polígono: 3\n",
            "Digite a base do polígono: 20\n",
            "Digite a altura do polígono15\n",
            "É um triângulo e sua área é: 150.0\n"
          ]
        }
      ],
      "source": [
        "# Questão 7\n",
        "\n",
        "lados = int(input('Informe o número de lados do polígono: '))\n",
        "area = int\n",
        "\n",
        "if(lados == 3):\n",
        "  base = int(input('Digite a base do polígono: '))\n",
        "  altura = int(input('Digite a altura do polígono: '))\n",
        "  area = (base * altura)/2\n",
        "  print('É um triângulo e sua área é:', area)\n",
        "elif(lados == 4):\n",
        "  lado = int(input('Digite o tamanho dos lados: '))\n",
        "  area = lado * lado\n",
        "  print('É um quadrado e sua área é:', area)\n",
        "elif(lados == 5):\n",
        "  print('É um pentágono')\n",
        "else:\n",
        "  print('Digite somente os números 3, 4 ou 5')\n",
        "\n",
        "'''\n",
        "import math\n",
        "# A = (l²V3) / 4 -> V3 = 1.7\n",
        "lados = int(input('Digite o número de lados do POLÍGONO: '))\n",
        "medida = int(input('Digite a medida do lado: (em cm) '))\n",
        "\n",
        "if lados == 3:\n",
        "      print('É um TRIÂNGULO')\n",
        "      print(round(math.sqrt(3), 1))\n",
        "      #area = (medida ** 2 * 1.7) / 4\n",
        "      #area = (medida ** 2 * math.sqrt(3)) / 4\n",
        "      #area = (math.pow(medida, 2) * math.sqrt(3)) / 4\n",
        "      #area = (medida ** 2 * (3 *8 (1/2))) / 4\n",
        "      area = (math.pow(medida, 2) * math.pow(3, 1/2)) / 4\n",
        "\n",
        "      print(f'A área do TRIÂNGULO É {round(area, 2)} cm²')\n",
        "elif lados == 4\n",
        "      print('É um QUADRADO')\n",
        "      area = medida * medida # l² / l x l\n",
        "      area = math.pow(medida, 2)\n",
        "      print(f'A área do QUADRADO É {round(area, 2)} cm²')\n",
        "elif lados == 5:\n",
        "      print('É um PENTÁGONO')\n",
        "else:\n",
        "      print('Não é um polígono conhecido')\n",
        "'''"
      ]
    },
    {
      "cell_type": "code",
      "execution_count": null,
      "metadata": {
        "colab": {
          "base_uri": "https://localhost:8080/"
        },
        "id": "I5wKiR3jxJvH",
        "outputId": "3fff5561-5905-45d6-81f5-ca8e18a2a571"
      },
      "outputs": [
        {
          "name": "stdout",
          "output_type": "stream",
          "text": [
            "Informe o número de lados do polígono: 8\n",
            "Polígono não identificado\n"
          ]
        }
      ],
      "source": [
        "# Questão 8\n",
        "\n",
        "lados = int(input('Informe o número de lados do polígono: '))\n",
        "area = int\n",
        "\n",
        "if(lados == 3):\n",
        "  base = int(input('Digite a base do polígono: '))\n",
        "  altura = int(input('Digite a altura do polígono: '))\n",
        "  area = (base * altura)/2\n",
        "  print('É um triângulo e sua área é:', area)\n",
        "elif(lados == 4):\n",
        "  lado = int(input('Digite o tamanho dos lados: '))\n",
        "  area = lado * lado\n",
        "  print('É um quadrado e sua área é:', area)\n",
        "elif(lados == 5):\n",
        "  print('É um pentágono')\n",
        "elif(lados < 3):\n",
        "  print('Não é um polígono')\n",
        "else:\n",
        "  print('Polígono não identificado')\n",
        "\n",
        "'''\n",
        "lados = int(input('Digite o número de lados: '))\n",
        "if lados < 3:\n",
        "      print('NÃO É UM POLÍGONO')\n",
        "elif lados > 5:\n",
        "      print('POLÍGONO NÃO IDENTIFICADO')\n",
        "else:\n",
        "      if lados == 3:\n",
        "            print('É um TRIÂNGULO')\n",
        "      elif lados == 4:\n",
        "            print('É um QUADRADO')\n",
        "      else:\n",
        "            print('É um PENTÁGONO') \n",
        "'''\n"
      ]
    },
    {
      "cell_type": "code",
      "execution_count": null,
      "metadata": {
        "colab": {
          "base_uri": "https://localhost:8080/"
        },
        "id": "_VxqcxVUxph3",
        "outputId": "98ee403b-b322-4193-c883-c10fd22f260d"
      },
      "outputs": [
        {
          "name": "stdout",
          "output_type": "stream",
          "text": [
            "Escreva o primeiro número: 90\n",
            "Escreva o segundo número: 70\n",
            "Escreva o terceiro número: 50\n",
            "90\n"
          ]
        }
      ],
      "source": [
        "# Questão 9\n",
        "\n",
        "num1 = int(input('Escreva o primeiro número: '))\n",
        "num2 = int(input('Escreva o segundo número: '))\n",
        "num3 = int(input('Escreva o terceiro número: '))\n",
        "\n",
        "if(num1 > num2 and num1 > num3):\n",
        "  print(num1)\n",
        "elif(num2 > num1 and num2 > num3):\n",
        "  print(num2)\n",
        "elif(num3 > num1 and num3 > num2):\n",
        "  print(num3)\n",
        "else:\n",
        "  print('Dois ou mais números têm o mesmo valor')\n",
        "\n",
        "'''\n",
        "from random import randint\n",
        "num1 = randint(1, 1000) #int(input('Digite um número: ')) \n",
        "num2 = randint(1, 1000) #int(input('Digite um número: ')) \n",
        "num3 = randint(1, 1000) #int(input('Digite um número: ')) \n",
        "\n",
        "print(f'{num1} {num2} {num3}')\n",
        "\n",
        "if num2 < num1 > num3:\n",
        "      print(f'O maior número é {num1}')\n",
        "elif num1 < num2 > num3:\n",
        "      print(f'O maior número é {num2}')\n",
        "else:\n",
        "      print(f'O maior número é {num3}')\n",
        "'''"
      ]
    },
    {
      "cell_type": "code",
      "execution_count": null,
      "metadata": {
        "colab": {
          "base_uri": "https://localhost:8080/"
        },
        "id": "43xCxSnqyuMf",
        "outputId": "980135ef-89ef-48f0-9d4d-a15707ce6941"
      },
      "outputs": [
        {
          "name": "stdout",
          "output_type": "stream",
          "text": [
            "Primeiro lado: 7\n",
            "Segundo  lado: 8\n",
            "Terceiro lado: 7\n",
            "Isósceles\n"
          ]
        }
      ],
      "source": [
        "# Questão 10\n",
        "\n",
        "a = float(input('Primeiro lado: '))\n",
        "b = float(input('Segundo  lado: '))\n",
        "c = float(input('Terceiro lado: '))\n",
        "    \n",
        "\n",
        "if(a + b < c) or (a + c < b) or (b + c < a):\n",
        "      print('Não é um triangulo')\n",
        "elif(a == b) and (a == c) :\n",
        "      print('Equilatero')\n",
        "elif(a == b) or (a == c) or (b == c):\n",
        "      print('Isósceles')\n",
        "else:\n",
        "      print('Escaleno')\n",
        "\n",
        "'''\n",
        "lado1 = randint(5, 15) #int(input('Digite o lado 1 do triângulo: ')) \n",
        "lado2 = randint(5, 15) #int(input('Digite o lado 2 do triângulo: ')) \n",
        "lado3 = randint(5, 15) #int(input('Digite o lado 3 do triângulo: ')) \n",
        "\n",
        "print(f'{lado1} {lado2} {lado3}')\n",
        "\n",
        "if lado1 == lado2 == lado3:\n",
        "      print('Triângulo Equilátero: possui os 3 lados iguais')\n",
        "elif lado1 == lado 2 or lado1 == lado 3 or lado2 == lado 3:\n",
        "      print('Triângulo Isósceles: possui 2 lados iguais')\n",
        "else:\n",
        "      print('Triângulo Escaleno: possui 3 lados diferentes')\n",
        "'''"
      ]
    },
    {
      "cell_type": "code",
      "execution_count": null,
      "metadata": {
        "colab": {
          "base_uri": "https://localhost:8080/"
        },
        "id": "GGWgIRpFzXMn",
        "outputId": "08c0af1f-c475-42f1-c47e-8bbed1c6fe60"
      },
      "outputs": [
        {
          "name": "stdout",
          "output_type": "stream",
          "text": [
            "Primeiro lado: 90\n",
            "Segundo  lado: 80\n",
            "Terceiro lado: 70\n",
            "É um triângulo retângulo\n"
          ]
        }
      ],
      "source": [
        "# Questão 11\n",
        "\n",
        "a = float(input('Primeiro lado: '))\n",
        "b = float(input('Segundo  lado: '))\n",
        "c = float(input('Terceiro lado: '))\n",
        "\n",
        "if(a == 90 or b == 90 or c == 90):\n",
        "  print('É um triângulo retângulo')\n",
        "elif(a > 90 or b > 90 or c > 90):\n",
        "  print('É um triângulo obtuso')\n",
        "else:\n",
        "  print('É um triângulo agudo')"
      ]
    },
    {
      "cell_type": "code",
      "execution_count": null,
      "metadata": {
        "colab": {
          "base_uri": "https://localhost:8080/"
        },
        "id": "hZnju7ww1T6F",
        "outputId": "daf4c94c-3123-4dbc-8227-01cea8c70531"
      },
      "outputs": [
        {
          "name": "stdout",
          "output_type": "stream",
          "text": [
            "Digite A para álcool ou G para gasolina: G\n",
            "Digite quantos litros você quer abastecer: 5\n",
            "O preço a pagar é de R$ 12.0\n"
          ]
        }
      ],
      "source": [
        "# Questão 12\n",
        "\n",
        "combustivel = input(\"Digite A para álcool ou G para gasolina: \").upper()\n",
        "litros = float(input(\"Digite quantos litros você quer abastecer: \"))\n",
        "\n",
        "if(combustivel == \"A\"):\n",
        "    preco = litros * 1.9\n",
        "    if(litros <= 20):\n",
        "        preco -= 1.9 * litros * 3 / 100\n",
        "    else:\n",
        "        preco -= 1.9 * litros * 5 / 100\n",
        "elif(combustivel == \"G\"):\n",
        "    preco = litros * 2.5\n",
        "    if(litros <= 20):\n",
        "        preco -= 2.5 * litros * 4 / 100\n",
        "    else:\n",
        "        preco -= 2.5 * litros * 6 / 100\n",
        "print(\"O preço a pagar é de R$\", preco)\n",
        "\n",
        "'''\n",
        "alcool = 4.89\n",
        "gasolina = 6.58\n",
        "preco = 0\n",
        "total = 0\n",
        "\n",
        "tipo_combustivel = input('Digite o tipo de combustível (A - álcool, G - gasolina) : ')[0].lower()\n",
        "litros = int(input('Digite a quantidade: (em litros)'))\n",
        "\n",
        "if tipo_combustivel == 'a':\n",
        "    print('álcool')\n",
        "    if litros <= 20:\n",
        "        preco = alcool * 0.97\n",
        "    else:\n",
        "        preco = alcool * 0.95\n",
        "\n",
        "elif tipo_combustivel == 'g':\n",
        "    print('Gasolina')\n",
        "    if litros <= 20:\n",
        "        preco = gasolina * 0.96\n",
        "    else:\n",
        "        preco = alcool * 0.94\n",
        "else:\n",
        "    print('Combustível não identificado')\n",
        "\n",
        "total = preco * litros\n",
        "print(f'Total R$ {round(total, 2)}')\n",
        "'''"
      ]
    },
    {
      "cell_type": "code",
      "execution_count": null,
      "metadata": {
        "colab": {
          "base_uri": "https://localhost:8080/"
        },
        "id": "vZwhwfUQ6ss7",
        "outputId": "8468de60-7949-4fbb-d341-231fda058b3b"
      },
      "outputs": [
        {
          "name": "stdout",
          "output_type": "stream",
          "text": [
            "Digite o seu nome: Mateus\n",
            "Digite a sua idade : 30\n",
            "Digite o seu gênero: M\n",
            "--------------------\n",
            "Digite o seu nome: Davi\n",
            "Digite a sua idade : 17\n",
            "Digite o seu gênero: M\n",
            "--------------------\n",
            "Digite o seu nome: Akio\n",
            "Digite a sua idade : 31\n",
            "Digite o seu gênero: M\n",
            "--------------------\n",
            "Digite o seu nome: Sayu\n",
            "Digite a sua idade : 32\n",
            "Digite o seu gênero: F\n",
            "--------------------\n",
            "Digite o seu nome: Lo\n",
            "Digite a sua idade : 30\n",
            "Digite o seu gênero: F\n",
            "--------------------\n",
            "A média das idades é de: 28.0\n",
            "O nome do mais novo é: Davi\n",
            "Ao todo 2 mulheres tem mais de 20 anos\n"
          ]
        }
      ],
      "source": [
        "# Exercício 12/07\n",
        "\n",
        "soma = 0\n",
        "quantMulheres = 0\n",
        "media = 0\n",
        "menor = 200\n",
        "novo = ''\n",
        "\n",
        "for quant in range(1,6):\n",
        "\n",
        "    nome = input('Digite o seu nome: ')\n",
        "    idade = int(input('Digite a sua idade : '))\n",
        "    sexo = input('Digite o seu gênero: ').upper()\n",
        "    print('-'*20)\n",
        "\n",
        "    soma = soma + idade\n",
        "    media = soma / quant\n",
        "\n",
        "    if sexo == 'M' and idade < menor:\n",
        "        menor = idade\n",
        "        novo = nome\n",
        "\n",
        "    if sexo == 'F' and idade > 20:\n",
        "        quantMulheres += 1\n",
        "\n",
        "print('A média das idades é de: {}'.format(media))\n",
        "print('O nome do mais novo é: {}'.format(novo))\n",
        "\n",
        "if quantMulheres == 0:\n",
        "    print('Não há mulheres no grupo')\n",
        "\n",
        "else:\n",
        "    print('Ao todo {} mulheres tem mais de 20 anos'.format(quantMulheres))"
      ]
    },
    {
      "cell_type": "code",
      "execution_count": null,
      "metadata": {
        "id": "Blf6B4cCktY5"
      },
      "outputs": [],
      "source": [
        "# Exercício 13/07\n",
        "\n",
        "horas = int(input('Digite a quantidade de horas trabalhadas'))\n",
        "valorHora = float(input('Digite o valor da hora trabalhada'))\n",
        "\n",
        "bruto = horas * valorHora\n",
        "inss = 10\n",
        "fgts = 11\n",
        "ir = 0\n",
        "\n",
        "if(bruto <= 900):\n",
        "    ir = 0\n",
        "elif(bruto <= 1500):\n",
        "    ir = 5\n",
        "elif(bruto <= 2500):\n",
        "    ir = 10\n",
        "elif(bruto > 2500):\n",
        "    ir = 20\n",
        "\n",
        "\n",
        "valorIr = bruto *  (ir / 100)\n",
        "valorInss = bruto * (inss / 100)\n",
        "valorFgts = bruto * (fgts / 100)\n",
        "descontos = valorInss + valorIr\n",
        "liquido = bruto - valorInss - valorIr \n",
        "\n",
        "print('Salário Bruto (R$ {} x {}) :R$ {}'.format(round(valorHora, 2), horas, round(bruto, 2)))\n",
        "print('( - ) IR ({} %)            :R$ {}'.format(ir, round(valorIr, 2)))\n",
        "print('( - ) INSS ({} %)          :R$ {}'.format(inss, round(valorInss, 2)))\n",
        "print('FGTS ({} %)                :R$ {}'.format(fgts, round(valorFgts, 2)))\n",
        "print('Total de descontos         :R$ {}'.format(round(descontos, 2)))\n",
        "print('Salário Líquido            :R$ {}'.format(round(liquido, 2)))"
      ]
    },
    {
      "cell_type": "code",
      "execution_count": null,
      "metadata": {
        "colab": {
          "base_uri": "https://localhost:8080/"
        },
        "id": "aZSDZUmWdDPw",
        "outputId": "ec96ec32-6dc4-4f3a-c24a-d0d11e973a42"
      },
      "outputs": [
        {
          "name": "stdout",
          "output_type": "stream",
          "text": [
            "Os dois valores do vetor foram:  30 100\n",
            "A soma dos dois valores é:  130\n"
          ]
        }
      ],
      "source": [
        "'''\n",
        "#4 Faça um programa que leia um vetor de 8 posições e, em seguida, leia também dois\n",
        "valores X e Y quaisquer correspondentes a duas posições no vetor. Ao final seu programa\n",
        "deverá escrever a soma dos valores encontrados nas respectivas posições X e Y.\n",
        "'''\n",
        "\n",
        "lista = [25, 30, -45, 85, 26, 100, -2, 60]\n",
        "\n",
        "x = lista[1]\n",
        "y = lista[5]\n",
        "\n",
        "soma = x + y\n",
        "\n",
        "print('Os dois valores do vetor foram:', x, y)\n",
        "print('A soma dos dois valores é:', soma)"
      ]
    },
    {
      "cell_type": "code",
      "execution_count": null,
      "metadata": {
        "colab": {
          "base_uri": "https://localhost:8080/"
        },
        "id": "zlGvHlBBnrpv",
        "outputId": "60da792b-daca-43e9-caed-4216b172b17a"
      },
      "outputs": [
        {
          "name": "stdout",
          "output_type": "stream",
          "text": [
            "Digite um numero: 5\n",
            "Digite um numero: 10\n",
            "Digite um numero: 2\n",
            "Digite um numero: 6\n",
            "Digite um numero: 12\n",
            "Digite um numero: 13\n",
            "Digite um numero: 4\n",
            "Digite um numero: 1\n",
            "Digite um numero: 11\n",
            "Digite um numero: 8\n",
            "Quantidade de números pares é: 6\n"
          ]
        }
      ],
      "source": [
        "'''\n",
        "#5 Leia um vetor de 10 posições. Contar e escrever quantos valores pares ele possui.\n",
        "'''\n",
        "\n",
        "def inputUser():\n",
        "  return int(input('Digite um numero: '))\n",
        "\n",
        "posicao = []\n",
        "for i in range(0, 10):\n",
        "  posicao.append(inputUser())\n",
        "\n",
        "contador = 0 \n",
        "for num in posicao:\n",
        "  if(num % 2 == 0):\n",
        "    contador = contador + 1\n",
        "\n",
        "print('Quantidade de números pares é:', contador)\n"
      ]
    },
    {
      "cell_type": "code",
      "execution_count": null,
      "metadata": {
        "colab": {
          "base_uri": "https://localhost:8080/"
        },
        "id": "N6_S2Zkhge-v",
        "outputId": "66e9c965-764d-4b14-ba97-2279f00c2aae"
      },
      "outputs": [
        {
          "name": "stdout",
          "output_type": "stream",
          "text": [
            "Digite um número: 1\n",
            "Digite um número: 15\n",
            "Digite um número: 5\n",
            "Digite um número: 5\n",
            "Digite um número: 5\n",
            "Digite um número: 5\n",
            "Digite um número: 5\n",
            "Digite um número: 5\n",
            "Digite um número: 5\n",
            "Digite um número: 5\n",
            "[1, 15, 5, 5, 5, 5, 5, 5, 5, 5]\n",
            " Menor número 1\n",
            " Maior número 15\n"
          ]
        }
      ],
      "source": [
        "'''\n",
        "#6 Faça um programa que receba do usuário um vetor com 10 posições. Em seguida, deverá ser impresso o maior e o menor elemento do vetor.\n",
        "'''\n",
        "\n",
        "def inputUser():\n",
        "  return int(input('Digite um número: '))\n",
        "\n",
        "posicao = []\n",
        "for i in range(0, 10):\n",
        "  posicao.append(inputUser())\n",
        "\n",
        "print(posicao)\n",
        "print(f' Menor número {min(posicao)}')\n",
        "print(f' Maior número {max(posicao)}')"
      ]
    },
    {
      "cell_type": "code",
      "execution_count": null,
      "metadata": {
        "colab": {
          "base_uri": "https://localhost:8080/"
        },
        "id": "Iby8c_NhtBTh",
        "outputId": "a8978849-2e90-49a4-cd0c-85759519b713"
      },
      "outputs": [
        {
          "name": "stdout",
          "output_type": "stream",
          "text": [
            "Digite um numero: 10\n",
            "Digite um numero: 5\n",
            "Digite um numero: 8\n",
            "Digite um numero: 15\n",
            "Digite um numero: 12\n",
            "Digite um numero: 7\n",
            "Digite um numero: 2\n",
            "Digite um numero: 3\n",
            "Digite um numero: 11\n",
            "Digite um numero: 9\n",
            "[10, 5, 8, 15, 12, 7, 2, 3, 11, 9]\n",
            "15\n",
            "3\n"
          ]
        }
      ],
      "source": [
        "'''\n",
        "#7 Escreva um programa que leia 10 números inteiros e os armazene em um vetor. Imprima o vetor, o maior elemento e a posição em que ele se encontra.\n",
        "'''\n",
        "\n",
        "def inputUser():\n",
        "  return int(input('Digite um numero: '))\n",
        "\n",
        "posicao = []\n",
        "for i in range(0, 10):\n",
        "  posicao.append(inputUser())\n",
        "\n",
        "print(posicao)\n",
        "print(max(posicao))\n",
        "print(posicao.index(max(posicao)))"
      ]
    },
    {
      "cell_type": "code",
      "execution_count": null,
      "metadata": {
        "colab": {
          "base_uri": "https://localhost:8080/"
        },
        "id": "8dlhvYYozOB2",
        "outputId": "0ddbf858-939f-44b0-bb50-375897f11793"
      },
      "outputs": [
        {
          "name": "stdout",
          "output_type": "stream",
          "text": [
            "Digite um numero: 1\n",
            "Digite um numero: 2\n",
            "Digite um numero: 3\n",
            "Digite um numero: 4\n",
            "Digite um numero: 5\n",
            "Digite um numero: 6\n",
            "[1, 2, 3, 4, 5, 6]\n",
            "[6, 5, 4, 3, 2, 1]\n"
          ]
        }
      ],
      "source": [
        "'''\n",
        "#8 Crie um programa que leia 6 valores inteiros e em seguida mostre na tela os valores lidos em ordem inversa.\n",
        "'''\n",
        "\n",
        "def inputUser():\n",
        "  return int(input('Digite um numero: '))\n",
        "\n",
        "posicao = []\n",
        "for i in range(0, 6):\n",
        "  posicao.append(inputUser())\n",
        "\n",
        "print(posicao)\n",
        "posicao.sort(reverse = True)\n",
        "print(posicao)"
      ]
    },
    {
      "cell_type": "code",
      "execution_count": null,
      "metadata": {
        "colab": {
          "base_uri": "https://localhost:8080/"
        },
        "id": "dZq8YeVPz3kl",
        "outputId": "39904a4a-2d27-4c80-f451-2f21db6c9dd7"
      },
      "outputs": [
        {
          "name": "stdout",
          "output_type": "stream",
          "text": [
            "Digite um número: 3\n",
            "Digite um número: 2\n",
            "Digite um número: 6\n",
            "Digite um número: 7\n",
            "Digite um número: 8\n",
            "Digite um número: 9\n",
            "Digite um número: 10\n",
            "Digite um número: 11\n",
            "Digite um número: 12\n",
            "Digite um número: 4\n",
            "Números pares: [2, 6, 8, 10, 12, 4]\n",
            "Números pares na ordem inversa: [12, 10, 8, 6, 4, 2]\n"
          ]
        }
      ],
      "source": [
        "'''\n",
        "#9 Crie um programa que leia 6 valores inteiros e pares, em seguida mostre na tela os valores lidos na ordem inversa.\n",
        "'''\n",
        "\n",
        "numerosPares = []\n",
        "\n",
        "while(len(numerosPares) < 6):\n",
        "  numero = int(input('Digite um número: '))\n",
        "\n",
        "  if numero % 2 == 0:\n",
        "    numerosPares.append(numero)\n",
        "\n",
        "print('Números pares:', numerosPares)\n",
        "\n",
        "numerosPares.sort(reverse=True)\n",
        "\n",
        "print('Números pares na ordem inversa:', numerosPares)"
      ]
    },
    {
      "cell_type": "code",
      "execution_count": null,
      "metadata": {
        "colab": {
          "base_uri": "https://localhost:8080/"
        },
        "id": "IxJtD6wB0tv9",
        "outputId": "68ac3583-920e-4d06-f405-894c7bb8eb0e"
      },
      "outputs": [
        {
          "name": "stdout",
          "output_type": "stream",
          "text": [
            "Digite a nota do aluno: 10\n",
            "Digite a nota do aluno: 9\n",
            "Digite a nota do aluno: 9\n",
            "Digite a nota do aluno: 9\n",
            "Digite a nota do aluno: 10\n",
            "Digite a nota do aluno: 10\n",
            "Digite a nota do aluno: 10\n",
            "Digite a nota do aluno: 10\n",
            "Digite a nota do aluno: 10\n",
            "Digite a nota do aluno: 10\n",
            "Digite a nota do aluno: 10\n",
            "Digite a nota do aluno: 10\n",
            "Digite a nota do aluno: 10\n",
            "Digite a nota do aluno: 10\n",
            "Digite a nota do aluno: 10\n",
            "[10, 9, 9, 9, 10, 10, 10, 10, 10, 10, 10, 10, 10, 10, 10]\n",
            "9.8\n"
          ]
        }
      ],
      "source": [
        "'''\n",
        "#10 Faça um programa ler a nota da prova de 15 alunos e armazene em um vetor, calcule e imprima a média geral\n",
        "'''\n",
        "\n",
        "def inputUser():\n",
        "  return int(input('Digite a nota do aluno: '))\n",
        "\n",
        "notas = []\n",
        "for i in range(0, 15):\n",
        "  notas.append(inputUser())\n",
        "\n",
        "print(notas)\n",
        "media = sum(notas) / len(notas)\n",
        "print(media)"
      ]
    },
    {
      "cell_type": "code",
      "execution_count": null,
      "metadata": {
        "id": "61CPprvI1qx8"
      },
      "outputs": [],
      "source": [
        "'''\n",
        "#11 Faça um programa que preencha um vetor com 10 números reais, calcule e mostre a quantidade de números negativos e a soma dos números positivos desse vetor.\n",
        "'''\n",
        "\n",
        "def inputUser():\n",
        "  return int(input('Digite um número: '))\n",
        "\n",
        "numerosReais = []\n",
        "for i in range(0, 10):\n",
        "  numerosReais.append(inputUser())\n",
        "\n",
        "  contador = 0\n",
        "  soma = 0\n",
        "for num in numerosReais:\n",
        "  if(num < 0):\n",
        "    contador = contador + 1\n",
        "  else:\n",
        "    soma = soma + num\n",
        "\n",
        "print('Quantidade de números negativos é:', contador)\n",
        "print('A soma dos números positivos é:', soma)"
      ]
    },
    {
      "cell_type": "code",
      "execution_count": null,
      "metadata": {
        "colab": {
          "base_uri": "https://localhost:8080/"
        },
        "id": "IcFAW5L46xFE",
        "outputId": "929a2cc0-7e8c-4066-8436-40425c8c4b02"
      },
      "outputs": [
        {
          "name": "stdout",
          "output_type": "stream",
          "text": [
            "Digite um numero: 10\n",
            "Digite um numero: 9\n",
            "Digite um numero: 10\n",
            "Digite um numero: 9\n",
            "Digite um numero: 9\n",
            "[10, 9, 10, 9, 9]\n",
            "10\n",
            "9\n",
            "9.4\n"
          ]
        }
      ],
      "source": [
        "'''\n",
        "#12 Fazer um programa para ler 5 valores e em seguida mostrar todos os valores lidos juntamente com o maior, o menor e a média dos valores.\n",
        "'''\n",
        "\n",
        "def inputUser():\n",
        "  return int(input('Digite um numero: '))\n",
        "\n",
        "valor = []\n",
        "for i in range(0, 5):\n",
        "  valor.append(inputUser())\n",
        "\n",
        "media = sum(valor) / len(valor)\n",
        "\n",
        "print(valor)\n",
        "print(max(valor))\n",
        "print(min(valor))\n",
        "print(media)"
      ]
    },
    {
      "cell_type": "code",
      "execution_count": null,
      "metadata": {
        "colab": {
          "base_uri": "https://localhost:8080/"
        },
        "id": "bdhcYIAb7c_t",
        "outputId": "2266f2c9-f41b-411a-c3ab-139828d00ece"
      },
      "outputs": [
        {
          "name": "stdout",
          "output_type": "stream",
          "text": [
            "Digite um numero: 200\n",
            "Digite um numero: 100\n",
            "Digite um numero: 1\n",
            "Digite um numero: 2\n",
            "Digite um numero: 10\n",
            "[200, 100, 1, 2, 10]\n",
            "0\n",
            "2\n"
          ]
        }
      ],
      "source": [
        "'''\n",
        "#13 Fazer um programa para ler 5 valores e em seguida mostrar a posição onde se encontram o maior e o menor valor.\n",
        "'''\n",
        "\n",
        "def inputUser():\n",
        "  return int(input('Digite um numero: '))\n",
        "\n",
        "posicao = []\n",
        "for i in range(0, 5):\n",
        "  posicao.append(inputUser())\n",
        "\n",
        "print(posicao)\n",
        "print(posicao.index(max(posicao)))\n",
        "print(posicao.index(min(posicao)))"
      ]
    },
    {
      "cell_type": "code",
      "execution_count": null,
      "metadata": {
        "colab": {
          "base_uri": "https://localhost:8080/"
        },
        "id": "3u26fNna8bGL",
        "outputId": "192d4d65-b7b4-409b-b9f0-494492ae1b64"
      },
      "outputs": [
        {
          "name": "stdout",
          "output_type": "stream",
          "text": [
            "[1, 2, 5, 9]\n"
          ]
        }
      ],
      "source": [
        "'''\n",
        "#14 Faça um programa que leia um vetor de 10 posições e verifique se existem valores iguais e os escreva na tela.\n",
        "'''\n",
        "\n",
        "list = [1, 2, 1, 2, 3, 4, 5, 1, 1, 2, 5, 6, 7, 8, 9, 9]\n",
        " \n",
        "novaLista = []\n",
        " \n",
        "for i in list:\n",
        "\n",
        "    num = list.count(i)\n",
        " \n",
        "    if num > 1:\n",
        " \n",
        "        if novaLista.count(i) == 0:\n",
        " \n",
        "            novaLista.append(i)\n",
        " \n",
        "print(novaLista)\n",
        "\n",
        "'''\n",
        "def counter(lista, num):\n",
        "  contador = 0\n",
        "  for item in lista:\n",
        "    if(item == num):\n",
        "      contador = contador + 1\n",
        "  return contador\n",
        "'''"
      ]
    },
    {
      "cell_type": "code",
      "execution_count": 14,
      "metadata": {
        "colab": {
          "base_uri": "https://localhost:8080/"
        },
        "id": "-AScbnKbjNbv",
        "outputId": "66a73f47-3746-4b6d-8539-4569e482a939"
      },
      "outputs": [
        {
          "name": "stdout",
          "output_type": "stream",
          "text": [
            "2 x 0 = 0\n",
            "2 x 1 = 2\n",
            "2 x 2 = 4\n",
            "2 x 3 = 6\n",
            "2 x 4 = 8\n",
            "2 x 5 = 10\n",
            "2 x 6 = 12\n",
            "2 x 7 = 14\n",
            "2 x 8 = 16\n",
            "2 x 9 = 18\n",
            "2 x 10 = 20\n"
          ]
        }
      ],
      "source": [
        "numerador = int(input(\"Qual o número que quer que se faça a tabuada: \"))\n",
        "for i in range(1,11):\n",
        "    print(f'{numerador} x {i} = {numerador * i}')\n"
      ]
    },
    {
      "cell_type": "code",
      "execution_count": 13,
      "metadata": {},
      "outputs": [
        {
          "name": "stdout",
          "output_type": "stream",
          "text": [
            "2 x 1 = 2\n",
            "2 x 2 = 4\n",
            "2 x 3 = 6\n",
            "2 x 4 = 8\n",
            "2 x 5 = 10\n",
            "2 x 6 = 12\n",
            "2 x 7 = 14\n",
            "2 x 8 = 16\n",
            "2 x 9 = 18\n",
            "2 x 10 = 20\n"
          ]
        }
      ],
      "source": [
        "numerador = int(input(\"bla bla bla\"))\n",
        "multiplicador = 1\n",
        "\n",
        "while multiplicador < 11:\n",
        "    print(f'{numerador} x {multiplicador} = {numerador * multiplicador}')\n",
        "    multiplicador += 1"
      ]
    },
    {
      "cell_type": "code",
      "execution_count": null,
      "metadata": {
        "colab": {
          "base_uri": "https://localhost:8080/"
        },
        "id": "x5DPZVjYjQEz",
        "outputId": "087cb7c4-f8ab-4324-d8a0-b6f1ee24314c"
      },
      "outputs": [
        {
          "name": "stdout",
          "output_type": "stream",
          "text": [
            "Digite um numero: 1.0\n",
            "Digite um numero: 2.0\n",
            "Digite um numero: 3.0\n",
            "Digite um numero: 4.0\n",
            "Digite um numero: 5.0\n",
            "Digite um numero: 6.0\n",
            "Digite um numero: 7.0\n",
            "Digite um numero: 8.0\n",
            "Digite um numero: 9.0\n",
            "Digite um numero: 10.0\n",
            "Soma da lista: 55.0\n"
          ]
        }
      ],
      "source": [
        "def somarLista():\n",
        "  return float(input('Digite um numero: '))\n",
        "\n",
        "lista = []\n",
        "for i in range(0, 10):\n",
        "  lista.append(somarLista())\n",
        "\n",
        "listaSum = sum(lista)\n",
        "print(f\"Soma da lista: {listaSum}\")"
      ]
    },
    {
      "cell_type": "code",
      "execution_count": null,
      "metadata": {},
      "outputs": [],
      "source": [
        "num = float(1200)\n",
        "lista[]\n",
        "\n",
        "while(len(lista) < 3):\n",
        "    lista.append(float(input('Digite um valor decimal: ')))\n",
        "\n",
        "print(lista)\n",
        "print(num - (sum(lista)))"
      ]
    },
    {
      "cell_type": "code",
      "execution_count": 2,
      "metadata": {},
      "outputs": [
        {
          "name": "stdout",
          "output_type": "stream",
          "text": [
            "Banana\n",
            "- agua\n",
            "- nanica\n",
            "- prata\n",
            "Maca\n",
            "- gala\n",
            "- fuji\n",
            "- argentina\n",
            "Laranja\n",
            "- lima\n",
            "- pera\n",
            "- terra\n"
          ]
        }
      ],
      "source": [
        "'''\n",
        "listaFrutas = ['banana', 'maca', 'laranja']\n",
        "tipoBanana = ['agua', 'nanica', 'prata']\n",
        "tipoMaca = ['gala', 'fuji', 'argentina']\n",
        "tipoLaranja = ['lima', 'pera', 'terra']\n",
        "\n",
        "def listarTipo(listaTipo):\n",
        "    for tipo in listaTipo:\n",
        "        print(f'- {tipo.capitalize()}')\n",
        "\n",
        "for fruta in listaFrutas:\n",
        "    print(fruta.capitalize())\n",
        "    if fruta == 'banana':\n",
        "        listarTipo(tipoBanana)\n",
        "    elif fruta == 'maca':\n",
        "        listarTipo(tipoMaca)\n",
        "    else:\n",
        "        listarTipo(tipoLaranja)\n",
        "'''\n",
        "\n",
        "listaFrutasV2 = [\n",
        "    {\n",
        "        'name': 'banana',\n",
        "        'tipos': ['agua', 'nanica', 'prata']\n",
        "    },\n",
        "    {\n",
        "        'name': 'maca',\n",
        "        'tipos': ['gala', 'fuji', 'argentina']\n",
        "    },\n",
        "    {\n",
        "        'name': 'laranja',\n",
        "        'tipos': ['lima', 'pera', 'terra']\n",
        "    },\n",
        "]\n",
        "\n",
        "for fruta in listaFrutasV2:\n",
        "    print(fruta['name'].capitalize())\n",
        "    for tipo in fruta['tipos']:\n",
        "        print(f'- {tipo}')"
      ]
    },
    {
      "cell_type": "code",
      "execution_count": 12,
      "metadata": {
        "id": "z-sJCdMkKpw8"
      },
      "outputs": [
        {
          "name": "stdout",
          "output_type": "stream",
          "text": [
            "É divisível por 5\n"
          ]
        }
      ],
      "source": [
        "'''\n",
        "1. Escrever um programa em Python para ler um número inteiro e informar se ele é divisível por 5.\n",
        "'''\n",
        "numInt = int(input('Informe um número: '))\n",
        "\n",
        "if(numInt % 5 == 0):\n",
        "    print('É divisível por 5')\n",
        "else:\n",
        "    print('Não é divisível por 5')"
      ]
    },
    {
      "cell_type": "code",
      "execution_count": 10,
      "metadata": {},
      "outputs": [
        {
          "name": "stdout",
          "output_type": "stream",
          "text": [
            "O primeiro time venceu\n"
          ]
        }
      ],
      "source": [
        "'''\n",
        "2. Desenvolva um programa que recebe do usuário, o placar de um jogo de futebol (os gols de cada time) e informa se o resultado foi um empate, se a vitória foi do primeiro time ou do segundo time.\n",
        "'''\n",
        "\n",
        "primeiroTime = int(input('Quantos gols fez o 1º time? '))\n",
        "segundoTime = int(input('Quantos gols fez o 2º time? '))\n",
        "\n",
        "if primeiroTime == segundoTime:\n",
        "    print('Foi empate')\n",
        "elif primeiroTime > segundoTime:\n",
        "    print('O primeiro time venceu')\n",
        "else:\n",
        "    print('O segundo time venceu')"
      ]
    },
    {
      "cell_type": "code",
      "execution_count": 31,
      "metadata": {},
      "outputs": [
        {
          "name": "stdout",
          "output_type": "stream",
          "text": [
            "Soma da lista = 15.15\n",
            "Dá para comprar\n"
          ]
        }
      ],
      "source": [
        "'''\n",
        "3. Faça um programa que leia o valor de um produto X e leia a quantidade de reais de um cofrinho que contenha:\n",
        "    - N moedas de 1 real;\n",
        "    - N moedas de 50 centavos;\n",
        "    - N moedas de 25 centavos;\n",
        "    - N moedas de 10 centavos;\n",
        "    - N moedas de 5 centavos;\n",
        "    - N moedas de 1 centavo.\n",
        "    - O programa deverá verificar se o total de reais que contem no cofrinho é o bastante para comprar o produto.\n",
        "'''\n",
        "\n",
        "produto = float(input('Qual é o preço do produto? '))\n",
        "cofrinho = [10.0, 3.50, 0.75, 0.30, 0.10, 0.5]\n",
        "soma = sum(cofrinho)\n",
        "print(f\"Soma da lista: {soma}\")\n",
        "\n",
        "if soma > produto:\n",
        "    print('Dá para comprar')\n",
        "else:\n",
        "    print('Não dá para comprar')\n"
      ]
    },
    {
      "cell_type": "code",
      "execution_count": 5,
      "metadata": {},
      "outputs": [
        {
          "name": "stdout",
          "output_type": "stream",
          "text": [
            "51\n"
          ]
        }
      ],
      "source": [
        "'''\n",
        "4. Fazer um programa para contar todos os números ímpares entre 1 e 100 e exibir o total na tela.\n",
        "'''\n",
        "\n",
        "contador = 0 \n",
        "for num in range(0, 101):\n",
        "  if(num % 2 == 0):\n",
        "    contador = contador + 1\n",
        "print(contador)"
      ]
    },
    {
      "cell_type": "code",
      "execution_count": 38,
      "metadata": {},
      "outputs": [
        {
          "name": "stdout",
          "output_type": "stream",
          "text": [
            "Seu número é: 15\n"
          ]
        }
      ],
      "source": [
        "'''\n",
        "5. Faça um programa que peça ao usuário um número entre 12 e 20. Se a pessoa digitar um número diferente, mostrar a mensagem \"entrada inválida\" e solicitar o número novamente. Se digitar correto mostrar o número digitado.\n",
        "'''\n",
        "\n",
        "numero = int(input('Digite um número entre 12 e 20: '))\n",
        "\n",
        "if numero < 12 or numero > 20:\n",
        "    print('Por favor, insira um número válido')\n",
        "else:\n",
        "    print('Seu número é:', numero)"
      ]
    },
    {
      "cell_type": "code",
      "execution_count": 27,
      "metadata": {},
      "outputs": [
        {
          "name": "stdout",
          "output_type": "stream",
          "text": [
            "Seu número é:  1\n"
          ]
        }
      ],
      "source": [
        "'''\n",
        "6. Escreva um algoritmo que leia um número do teclado até que encontre um número menor ou igual a 1.\n",
        "'''\n",
        "'''\n",
        "nota = True\n",
        "nota = int(input(\"Digite um número menor ou igual a 1: \"))\n",
        "\n",
        "if nota > 1:\n",
        "    nota = False\n",
        "    print('Insira um valor válido')\n",
        "else:\n",
        "    print(nota)\n",
        "'''\n",
        "contador = 0\n",
        "\n",
        "while True:\n",
        "    n = int(input(\"Digite um número menor ou igual a 1: \"))\n",
        "    if n <= 1:\n",
        "        break\n",
        "    else:\n",
        "        print('Digite um número válido: ')\n",
        "    contador = contador + 1\n",
        "\n",
        "print('Seu número é:', n)\n",
        "    "
      ]
    },
    {
      "cell_type": "code",
      "execution_count": 1,
      "metadata": {},
      "outputs": [
        {
          "name": "stdout",
          "output_type": "stream",
          "text": [
            "Digite 0: \n",
            "Quantidade de números digitados: 1\n",
            "Soma: 2\n"
          ]
        }
      ],
      "source": [
        "'''\n",
        "7. Crie um programa que leia um número do teclado até que encontre um número igual a zero. No final, mostre a soma dos números digitados.\n",
        "'''\n",
        "\n",
        "soma = 0\n",
        "contador = 0\n",
        "\n",
        "while True:\n",
        "    n = int(input('Digite 0: '))\n",
        "    if n == 0:\n",
        "        break\n",
        "    else:\n",
        "        print('Digite 0: ')\n",
        "    soma = soma + n\n",
        "    contador = contador + 1\n",
        "\n",
        "print(\"Quantidade de números digitados:\", contador)\n",
        "print(\"Soma:\", soma)"
      ]
    },
    {
      "cell_type": "code",
      "execution_count": 16,
      "metadata": {},
      "outputs": [
        {
          "name": "stdout",
          "output_type": "stream",
          "text": [
            "Números pares: [2, 6, 8]\n",
            "O número mínimo é: 2\n",
            "O número máximo é: 8\n",
            "A quantidade de números maiores que a média, são: 2\n",
            "A média é: 5.33\n"
          ]
        }
      ],
      "source": [
        "'''\n",
        "8. Faça um algoritmo que leia 30 valores do tipo inteiro e armazene-os em um vetor. A\n",
        "seguir, o algoritmo deverá informar \n",
        "    - (1) todos os números pares que existem no vetor; \n",
        "    - (2) o menor e o maior valor existente no vetor; \n",
        "    - (3) quantos dos valores do vetor são maiores que a média desses valores:\n",
        "'''\n",
        "\n",
        "numerosPares = []\n",
        "\n",
        "while(len(numerosPares) < 3):\n",
        "  numero = int(input('Digite um número: '))\n",
        "\n",
        "  if numero % 2 == 0:\n",
        "    numerosPares.append(numero)\n",
        "  \n",
        "print('Números pares:', numerosPares)\n",
        "\n",
        "media = sum(numerosPares) / len(numerosPares)\n",
        "\n",
        "print('O número mínimo é:', min(numerosPares))\n",
        "print('O número máximo é:', max(numerosPares))\n",
        "\n",
        "contador = 0\n",
        "for numeroPar in numerosPares:\n",
        "  if numeroPar > media:\n",
        "    contador += 1\n",
        "\n",
        "print('A quantidade de números maiores que a média, são:', contador)\n",
        "print('A média é:', round(media, 2))"
      ]
    },
    {
      "cell_type": "code",
      "execution_count": 2,
      "metadata": {},
      "outputs": [
        {
          "name": "stdout",
          "output_type": "stream",
          "text": [
            "[11, 2, 44, 3, 7, 12, 15, 11, 2, 1]\n",
            "[1, 2, 11, 15, 12, 7, 3, 44, 2, 11]\n"
          ]
        }
      ],
      "source": [
        "'''\n",
        "9. Faça um algoritmo para ler um vetor com 10 elementos e inverter a posição destes elementos, de tal modo que o primeiro elemento venha a ser o último depois da inversão;\n",
        "'''\n",
        "\n",
        "def inputUser():\n",
        "  return int(input('Digite um numero: '))\n",
        "\n",
        "posicao = []\n",
        "for i in range(0, 10):\n",
        "  posicao.append(inputUser())\n",
        "\n",
        "print(posicao)\n",
        "posicao.reverse()\n",
        "print(posicao)"
      ]
    },
    {
      "cell_type": "code",
      "execution_count": null,
      "metadata": {},
      "outputs": [],
      "source": [
        "filme = 0\n",
        "autor = 0"
      ]
    }
  ],
  "metadata": {
    "colab": {
      "collapsed_sections": [],
      "name": "Exercicios.ipynb",
      "provenance": []
    },
    "kernelspec": {
      "display_name": "Python 3.10.5 64-bit",
      "language": "python",
      "name": "python3"
    },
    "language_info": {
      "codemirror_mode": {
        "name": "ipython",
        "version": 3
      },
      "file_extension": ".py",
      "mimetype": "text/x-python",
      "name": "python",
      "nbconvert_exporter": "python",
      "pygments_lexer": "ipython3",
      "version": "3.10.5"
    },
    "vscode": {
      "interpreter": {
        "hash": "62235d2a6b91292b3cbd049ce7a790b9656dd211fbfc8e00863c4e18f9242a69"
      }
    }
  },
  "nbformat": 4,
  "nbformat_minor": 0
}
