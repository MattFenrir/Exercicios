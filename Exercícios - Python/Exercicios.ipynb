{
  "nbformat": 4,
  "nbformat_minor": 0,
  "metadata": {
    "colab": {
      "name": "Exercicios.ipynb",
      "provenance": [],
      "collapsed_sections": []
    },
    "kernelspec": {
      "name": "python3",
      "display_name": "Python 3"
    },
    "language_info": {
      "name": "python"
    }
  },
  "cells": [
    {
      "cell_type": "code",
      "execution_count": null,
      "metadata": {
        "id": "_va_32wvVei1",
        "colab": {
          "base_uri": "https://localhost:8080/"
        },
        "outputId": "818c93ca-0655-4841-9dc0-6c35470bcf9f"
      },
      "outputs": [
        {
          "output_type": "stream",
          "name": "stdout",
          "text": [
            "Digite um valor: 10\n",
            "Digite outro valor: 10\n",
            "Têm o mesmo valor\n"
          ]
        }
      ],
      "source": [
        "# Questão 1\n",
        "\n",
        "x = int(input('Digite um valor: '))\n",
        "y = int(input('Digite outro valor: '))\n",
        "\n",
        "if(x > y):\n",
        "  print('x é o maior valor')\n",
        "elif(y > x):\n",
        "  print('y é o maior valor')\n",
        "else:\n",
        "  print('Têm o mesmo valor')"
      ]
    },
    {
      "cell_type": "code",
      "source": [
        "# Questão 2\n",
        "\n",
        "nascimento = int(input('Digite o seu ano de nascimento: '))\n",
        "\n",
        "if(nascimento <= 2006):\n",
        "  print('Permissão para votar concedida')\n",
        "else:\n",
        "  print('Permissão para votar negada')\n"
      ],
      "metadata": {
        "colab": {
          "base_uri": "https://localhost:8080/"
        },
        "id": "HdklEwpbipu_",
        "outputId": "51f0d426-10aa-48e6-e6b5-972f528978a9"
      },
      "execution_count": null,
      "outputs": [
        {
          "output_type": "stream",
          "name": "stdout",
          "text": [
            "Digite o seu ano de nascimento: 1992\n",
            "Permissão para votar concedida\n"
          ]
        }
      ]
    },
    {
      "cell_type": "code",
      "source": [
        "# Questão 3\n",
        "\n",
        "senha = int(input('Digite sua senha: '))\n",
        "\n",
        "if(senha == 1234):\n",
        "  print('Bem-vindo!')\n",
        "else:\n",
        "  print('Senha incorreta!')"
      ],
      "metadata": {
        "colab": {
          "base_uri": "https://localhost:8080/"
        },
        "id": "HYcIRgHWmLPu",
        "outputId": "6742e8aa-d040-4206-a028-287293029752"
      },
      "execution_count": null,
      "outputs": [
        {
          "output_type": "stream",
          "name": "stdout",
          "text": [
            "Digite sua senha: 3421\n",
            "Senha incorreta!\n"
          ]
        }
      ]
    },
    {
      "cell_type": "code",
      "source": [
        "# Questão 4\n",
        "\n",
        "maca = int(input('Informe o número de maçãs compradas: '))\n",
        "\n",
        "if(maca < 12):\n",
        "  preco = maca * 0.30\n",
        "  print('O valor da compra é de: R$', round(preco, 2))\n",
        "else:\n",
        "  preco = maca * 0.25\n",
        "  print('O valor da compra é de: R$', round(preco, 2))"
      ],
      "metadata": {
        "colab": {
          "base_uri": "https://localhost:8080/"
        },
        "id": "Wx0ZliS1nTLM",
        "outputId": "b3de352e-d92d-4215-a82a-ca13c93c2c40"
      },
      "execution_count": null,
      "outputs": [
        {
          "output_type": "stream",
          "name": "stdout",
          "text": [
            "Informe o número de maçãs compradas: 6\n",
            "O valor da compra é de: R$ 1.8\n"
          ]
        }
      ]
    },
    {
      "cell_type": "code",
      "source": [
        "# Questão 5\n",
        "\n",
        "num1 = int(input('Escreva o primeiro número: '))\n",
        "num2 = int(input('Escreva o segundo número: '))\n",
        "num3 = int(input('Escreva o terceiro número: '))\n",
        "\n",
        "valores = [num1, num2, num3]\n",
        "print(sorted(valores))"
      ],
      "metadata": {
        "colab": {
          "base_uri": "https://localhost:8080/"
        },
        "id": "-rlSKN6yoE6l",
        "outputId": "5d77a4a7-e485-4432-b1d9-e509174d4dd0"
      },
      "execution_count": null,
      "outputs": [
        {
          "output_type": "stream",
          "name": "stdout",
          "text": [
            "Escreva o primeiro número: 50\n",
            "Escreva o segundo número: 1\n",
            "Escreva o terceiro número: 30\n",
            "[1, 30, 50]\n"
          ]
        }
      ]
    },
    {
      "cell_type": "code",
      "source": [
        "# Questão 6\n",
        "\n",
        "sexo = input('Digite seu gênero: ').upper()\n",
        "altura = float(input('Digite sua altura: '))\n",
        "peso = float()\n",
        "\n",
        "if(sexo == 'F'):\n",
        "  peso = (62.1 * altura) - 44.7\n",
        "  print('Seu peso ideal é:', peso, 'Kg')\n",
        "elif(sexo == 'M'):\n",
        "  peso = (72.7 * altura) - 58\n",
        "  print('Seu peso ideal é:', peso, 'Kg')\n",
        "else:\n",
        "  print('Erro')"
      ],
      "metadata": {
        "colab": {
          "base_uri": "https://localhost:8080/"
        },
        "id": "rDfVp-tiqXCs",
        "outputId": "aa7f44a1-377d-4a9a-b0b6-a979c476bbf5"
      },
      "execution_count": null,
      "outputs": [
        {
          "output_type": "stream",
          "name": "stdout",
          "text": [
            "Digite seu gênero: J\n",
            "Digite sua altura: 1.65\n",
            "Erro\n"
          ]
        }
      ]
    },
    {
      "cell_type": "code",
      "source": [
        "# Questão 7\n",
        "\n",
        "lados = int(input('Informe o número de lados do polígono: '))\n",
        "area = int\n",
        "\n",
        "if(lados == 3):\n",
        "  base = int(input('Digite a base do polígono: '))\n",
        "  altura = int(input('Digite a altura do polígono: '))\n",
        "  area = (base * altura)/2\n",
        "  print('É um triângulo e sua área é:', area)\n",
        "elif(lados == 4):\n",
        "  lado = int(input('Digite o tamanho dos lados: '))\n",
        "  area = lado * lado\n",
        "  print('É um quadrado e sua área é:', area)\n",
        "elif(lados == 5):\n",
        "  print('É um pentágono')\n",
        "else:\n",
        "  print('Digite somente os números 3, 4 ou 5')"
      ],
      "metadata": {
        "colab": {
          "base_uri": "https://localhost:8080/"
        },
        "id": "BQ1hyaRVt0yQ",
        "outputId": "fbc93ced-9f11-42cb-8e9c-ccd113b243d4"
      },
      "execution_count": null,
      "outputs": [
        {
          "output_type": "stream",
          "name": "stdout",
          "text": [
            "Informe o número de lados do polígono: 3\n",
            "Digite a base do polígono: 20\n",
            "Digite a altura do polígono15\n",
            "É um triângulo e sua área é: 150.0\n"
          ]
        }
      ]
    },
    {
      "cell_type": "code",
      "source": [
        "# Questão 8\n",
        "\n",
        "lados = int(input('Informe o número de lados do polígono: '))\n",
        "area = int\n",
        "\n",
        "if(lados == 3):\n",
        "  base = int(input('Digite a base do polígono: '))\n",
        "  altura = int(input('Digite a altura do polígono: '))\n",
        "  area = (base * altura)/2\n",
        "  print('É um triângulo e sua área é:', area)\n",
        "elif(lados == 4):\n",
        "  lado = int(input('Digite o tamanho dos lados: '))\n",
        "  area = lado * lado\n",
        "  print('É um quadrado e sua área é:', area)\n",
        "elif(lados == 5):\n",
        "  print('É um pentágono')\n",
        "elif(lados < 3):\n",
        "  print('Não é um polígono')\n",
        "else:\n",
        "  print('Polígono não identificado')\n"
      ],
      "metadata": {
        "colab": {
          "base_uri": "https://localhost:8080/"
        },
        "id": "I5wKiR3jxJvH",
        "outputId": "3fff5561-5905-45d6-81f5-ca8e18a2a571"
      },
      "execution_count": null,
      "outputs": [
        {
          "output_type": "stream",
          "name": "stdout",
          "text": [
            "Informe o número de lados do polígono: 8\n",
            "Polígono não identificado\n"
          ]
        }
      ]
    },
    {
      "cell_type": "code",
      "source": [
        "# Questão 9\n",
        "\n",
        "num1 = int(input('Escreva o primeiro número: '))\n",
        "num2 = int(input('Escreva o segundo número: '))\n",
        "num3 = int(input('Escreva o terceiro número: '))\n",
        "\n",
        "if(num1 > num2 and num1 > num3):\n",
        "  print(num1)\n",
        "elif(num2 > num1 and num2 > num3):\n",
        "  print(num2)\n",
        "elif(num3 > num1 and num3 > num2):\n",
        "  print(num3)\n",
        "else:\n",
        "  print('Dois ou mais números têm o mesmo valor')"
      ],
      "metadata": {
        "colab": {
          "base_uri": "https://localhost:8080/"
        },
        "id": "_VxqcxVUxph3",
        "outputId": "98ee403b-b322-4193-c883-c10fd22f260d"
      },
      "execution_count": null,
      "outputs": [
        {
          "output_type": "stream",
          "name": "stdout",
          "text": [
            "Escreva o primeiro número: 90\n",
            "Escreva o segundo número: 70\n",
            "Escreva o terceiro número: 50\n",
            "90\n"
          ]
        }
      ]
    },
    {
      "cell_type": "code",
      "source": [
        "# Questão 10\n",
        "\n",
        "a = float(input('Primeiro lado: '))\n",
        "b = float(input('Segundo  lado: '))\n",
        "c = float(input('Terceiro lado: '))\n",
        "    \n",
        "\n",
        "if(a + b < c) or (a + c < b) or (b + c < a):\n",
        "      print('Não é um triangulo')\n",
        "elif(a == b) and (a == c) :\n",
        "      print('Equilatero')\n",
        "elif(a == b) or (a == c) or (b == c):\n",
        "      print('Isósceles')\n",
        "else:\n",
        "      print('Escaleno')"
      ],
      "metadata": {
        "colab": {
          "base_uri": "https://localhost:8080/"
        },
        "id": "43xCxSnqyuMf",
        "outputId": "980135ef-89ef-48f0-9d4d-a15707ce6941"
      },
      "execution_count": null,
      "outputs": [
        {
          "output_type": "stream",
          "name": "stdout",
          "text": [
            "Primeiro lado: 7\n",
            "Segundo  lado: 8\n",
            "Terceiro lado: 7\n",
            "Isósceles\n"
          ]
        }
      ]
    },
    {
      "cell_type": "code",
      "source": [
        "# Questão 11\n",
        "\n",
        "a = float(input('Primeiro lado: '))\n",
        "b = float(input('Segundo  lado: '))\n",
        "c = float(input('Terceiro lado: '))\n",
        "\n",
        "if(a == 90 or b == 90 or c == 90):\n",
        "  print('É um triângulo retângulo')\n",
        "elif(a > 90 or b > 90 or c > 90):\n",
        "  print('É um triângulo obtuso')\n",
        "else:\n",
        "  print('É um triângulo agudo')"
      ],
      "metadata": {
        "colab": {
          "base_uri": "https://localhost:8080/"
        },
        "id": "GGWgIRpFzXMn",
        "outputId": "08c0af1f-c475-42f1-c47e-8bbed1c6fe60"
      },
      "execution_count": null,
      "outputs": [
        {
          "output_type": "stream",
          "name": "stdout",
          "text": [
            "Primeiro lado: 90\n",
            "Segundo  lado: 80\n",
            "Terceiro lado: 70\n",
            "É um triângulo retângulo\n"
          ]
        }
      ]
    },
    {
      "cell_type": "code",
      "source": [
        "# Questão 12\n",
        "\n",
        "combustivel = input(\"Digite A para álcool ou G para gasolina: \").upper()\n",
        "litros = float(input(\"Digite quantos litros você quer abastecer: \"))\n",
        "\n",
        "if(combustivel == \"A\"):\n",
        "    preco = litros * 1.9\n",
        "    if(litros <= 20):\n",
        "        preco -= 1.9 * litros * 3 / 100\n",
        "    else:\n",
        "        preco -= 1.9 * litros * 5 / 100\n",
        "elif(combustivel == \"G\"):\n",
        "    preco = litros * 2.5\n",
        "    if(litros <= 20):\n",
        "        preco -= 2.5 * litros * 4 / 100\n",
        "    else:\n",
        "        preco -= 2.5 * litros * 6 / 100\n",
        "print(\"O preço a pagar é de R$\", preco)"
      ],
      "metadata": {
        "colab": {
          "base_uri": "https://localhost:8080/"
        },
        "id": "hZnju7ww1T6F",
        "outputId": "daf4c94c-3123-4dbc-8227-01cea8c70531"
      },
      "execution_count": null,
      "outputs": [
        {
          "output_type": "stream",
          "name": "stdout",
          "text": [
            "Digite A para álcool ou G para gasolina: G\n",
            "Digite quantos litros você quer abastecer: 5\n",
            "O preço a pagar é de R$ 12.0\n"
          ]
        }
      ]
    },
    {
      "cell_type": "code",
      "source": [
        "# Exercício 12/07\n",
        "\n",
        "soma = 0\n",
        "quantMulheres = 0\n",
        "media = 0\n",
        "menor = 200\n",
        "novo = ''\n",
        "\n",
        "for quant in range(1,6):\n",
        "\n",
        "    nome = input('Digite o seu nome: ')\n",
        "    idade = int(input('Digite a sua idade : '))\n",
        "    sexo = input('Digite o seu gênero: ').upper()\n",
        "    print('-'*20)\n",
        "\n",
        "    soma = soma + idade\n",
        "    media = soma / quant\n",
        "\n",
        "    if sexo == 'M' and idade < menor:\n",
        "        menor = idade\n",
        "        novo = nome\n",
        "\n",
        "    if sexo == 'F' and idade > 20:\n",
        "        quantMulheres += 1\n",
        "\n",
        "print('A média das idades é de: {}'.format(media))\n",
        "print('O nome do mais novo é: {}'.format(novo))\n",
        "\n",
        "if quantMulheres == 0:\n",
        "    print('Não há mulheres no grupo')\n",
        "\n",
        "else:\n",
        "    print('Ao todo {} mulheres tem mais de 20 anos'.format(quantMulheres))"
      ],
      "metadata": {
        "colab": {
          "base_uri": "https://localhost:8080/"
        },
        "id": "vZwhwfUQ6ss7",
        "outputId": "8468de60-7949-4fbb-d341-231fda058b3b"
      },
      "execution_count": null,
      "outputs": [
        {
          "output_type": "stream",
          "name": "stdout",
          "text": [
            "Digite o seu nome: Mateus\n",
            "Digite a sua idade : 30\n",
            "Digite o seu gênero: M\n",
            "--------------------\n",
            "Digite o seu nome: Davi\n",
            "Digite a sua idade : 17\n",
            "Digite o seu gênero: M\n",
            "--------------------\n",
            "Digite o seu nome: Akio\n",
            "Digite a sua idade : 31\n",
            "Digite o seu gênero: M\n",
            "--------------------\n",
            "Digite o seu nome: Sayu\n",
            "Digite a sua idade : 32\n",
            "Digite o seu gênero: F\n",
            "--------------------\n",
            "Digite o seu nome: Lo\n",
            "Digite a sua idade : 30\n",
            "Digite o seu gênero: F\n",
            "--------------------\n",
            "A média das idades é de: 28.0\n",
            "O nome do mais novo é: Davi\n",
            "Ao todo 2 mulheres tem mais de 20 anos\n"
          ]
        }
      ]
    },
    {
      "cell_type": "code",
      "source": [
        "# Exercício 13/07\n",
        "\n",
        "horas = int(input('Digite a quantidade de horas trabalhadas'))\n",
        "valorHora = float(input('Digite o valor da hora trabalhada'))\n",
        "\n",
        "bruto = horas * valorHora\n",
        "inss = 10\n",
        "fgts = 11\n",
        "ir = 0\n",
        "\n",
        "if(bruto <= 900):\n",
        "    ir = 0\n",
        "elif(bruto <= 1500):\n",
        "    ir = 5\n",
        "elif(bruto <= 2500):\n",
        "    ir = 10\n",
        "elif(bruto > 2500):\n",
        "    ir = 20\n",
        "\n",
        "\n",
        "valorIr = bruto *  (ir / 100)\n",
        "valorInss = bruto * (inss / 100)\n",
        "valorFgts = bruto * (fgts / 100)\n",
        "descontos = valorInss + valorIr\n",
        "liquido = bruto - valorInss - valorIr \n",
        "\n",
        "print('Salário Bruto (R$ {} x {}) :R$ {}'.format(round(valorHora, 2), horas, round(bruto, 2)))\n",
        "print('( - ) IR ({} %)            :R$ {}'.format(ir, round(valorIr, 2)))\n",
        "print('( - ) INSS ({} %)          :R$ {}'.format(inss, round(valorInss, 2)))\n",
        "print('FGTS ({} %)                :R$ {}'.format(fgts, round(valorFgts, 2)))\n",
        "print('Total de descontos         :R$ {}'.format(round(descontos, 2)))\n",
        "print('Salário Líquido            :R$ {}'.format(round(liquido, 2)))"
      ],
      "metadata": {
        "id": "Blf6B4cCktY5"
      },
      "execution_count": null,
      "outputs": []
    },
    {
      "cell_type": "code",
      "source": [
        "'''\n",
        "#4 Faça um programa que leia um vetor de 8 posições e, em seguida, leia também dois\n",
        "valores X e Y quaisquer correspondentes a duas posições no vetor. Ao final seu programa\n",
        "deverá escrever a soma dos valores encontrados nas respectivas posições X e Y.\n",
        "'''\n",
        "\n",
        "lista = [25, 30, -45, 85, 26, 100, -2, 60]\n",
        "\n",
        "x = lista[1]\n",
        "y = lista[5]\n",
        "\n",
        "soma = x + y\n",
        "\n",
        "print('Os dois valores do vetor foram:', x, y)\n",
        "print('A soma dos dois valores é:', soma)"
      ],
      "metadata": {
        "id": "aZSDZUmWdDPw",
        "colab": {
          "base_uri": "https://localhost:8080/"
        },
        "outputId": "ec96ec32-6dc4-4f3a-c24a-d0d11e973a42"
      },
      "execution_count": null,
      "outputs": [
        {
          "output_type": "stream",
          "name": "stdout",
          "text": [
            "Os dois valores do vetor foram:  30 100\n",
            "A soma dos dois valores é:  130\n"
          ]
        }
      ]
    },
    {
      "cell_type": "code",
      "source": [
        "'''\n",
        "#5 Leia um vetor de 10 posições. Contar e escrever quantos valores pares ele possui.\n",
        "'''\n",
        "\n",
        "def inputUser():\n",
        "  return int(input('Digite um numero: '))\n",
        "\n",
        "posicao = []\n",
        "for i in range(0, 10):\n",
        "  posicao.append(inputUser())\n",
        "\n",
        "contador = 0 \n",
        "for num in posicao:\n",
        "  if(num % 2 == 0):\n",
        "    contador = contador + 1\n",
        "\n",
        "print('Quantidade de números pares é:', contador)\n"
      ],
      "metadata": {
        "id": "zlGvHlBBnrpv",
        "colab": {
          "base_uri": "https://localhost:8080/"
        },
        "outputId": "60da792b-daca-43e9-caed-4216b172b17a"
      },
      "execution_count": null,
      "outputs": [
        {
          "output_type": "stream",
          "name": "stdout",
          "text": [
            "Digite um numero: 5\n",
            "Digite um numero: 10\n",
            "Digite um numero: 2\n",
            "Digite um numero: 6\n",
            "Digite um numero: 12\n",
            "Digite um numero: 13\n",
            "Digite um numero: 4\n",
            "Digite um numero: 1\n",
            "Digite um numero: 11\n",
            "Digite um numero: 8\n",
            "Quantidade de números pares é: 6\n"
          ]
        }
      ]
    },
    {
      "cell_type": "code",
      "source": [
        "'''\n",
        "#6 Faça um programa que receba do usuário um vetor com 10 posições. Em seguida, deverá ser impresso o maior e o menor elemento do vetor.\n",
        "'''\n",
        "\n",
        "def inputUser():\n",
        "  return int(input('Digite um número: '))\n",
        "\n",
        "posicao = []\n",
        "for i in range(0, 10):\n",
        "  posicao.append(inputUser())\n",
        "\n",
        "print(posicao)\n",
        "print(f' Menor número {min(posicao)}')\n",
        "print(f' Maior número {max(posicao)}')"
      ],
      "metadata": {
        "id": "N6_S2Zkhge-v",
        "colab": {
          "base_uri": "https://localhost:8080/"
        },
        "outputId": "66e9c965-764d-4b14-ba97-2279f00c2aae"
      },
      "execution_count": null,
      "outputs": [
        {
          "output_type": "stream",
          "name": "stdout",
          "text": [
            "Digite um número: 1\n",
            "Digite um número: 15\n",
            "Digite um número: 5\n",
            "Digite um número: 5\n",
            "Digite um número: 5\n",
            "Digite um número: 5\n",
            "Digite um número: 5\n",
            "Digite um número: 5\n",
            "Digite um número: 5\n",
            "Digite um número: 5\n",
            "[1, 15, 5, 5, 5, 5, 5, 5, 5, 5]\n",
            " Menor número 1\n",
            " Maior número 15\n"
          ]
        }
      ]
    },
    {
      "cell_type": "code",
      "source": [
        "'''\n",
        "#7 Escreva um programa que leia 10 números inteiros e os armazene em um vetor. Imprima o vetor, o maior elemento e a posição em que ele se encontra.\n",
        "'''\n",
        "\n",
        "def inputUser():\n",
        "  return int(input('Digite um numero: '))\n",
        "\n",
        "posicao = []\n",
        "for i in range(0, 10):\n",
        "  posicao.append(inputUser())\n",
        "\n",
        "print(posicao)\n",
        "print(max(posicao))\n",
        "print(posicao.index(max(posicao)))"
      ],
      "metadata": {
        "colab": {
          "base_uri": "https://localhost:8080/"
        },
        "id": "Iby8c_NhtBTh",
        "outputId": "a8978849-2e90-49a4-cd0c-85759519b713"
      },
      "execution_count": null,
      "outputs": [
        {
          "output_type": "stream",
          "name": "stdout",
          "text": [
            "Digite um numero: 10\n",
            "Digite um numero: 5\n",
            "Digite um numero: 8\n",
            "Digite um numero: 15\n",
            "Digite um numero: 12\n",
            "Digite um numero: 7\n",
            "Digite um numero: 2\n",
            "Digite um numero: 3\n",
            "Digite um numero: 11\n",
            "Digite um numero: 9\n",
            "[10, 5, 8, 15, 12, 7, 2, 3, 11, 9]\n",
            "15\n",
            "3\n"
          ]
        }
      ]
    },
    {
      "cell_type": "code",
      "source": [
        "'''\n",
        "#8 Crie um programa que leia 6 valores inteiros e em seguida mostre na tela os valores lidos em ordem inversa.\n",
        "'''\n",
        "\n",
        "def inputUser():\n",
        "  return int(input('Digite um numero: '))\n",
        "\n",
        "posicao = []\n",
        "for i in range(0, 6):\n",
        "  posicao.append(inputUser())\n",
        "\n",
        "print(posicao)\n",
        "posicao.sort(reverse = True)\n",
        "print(posicao)"
      ],
      "metadata": {
        "colab": {
          "base_uri": "https://localhost:8080/"
        },
        "id": "8dlhvYYozOB2",
        "outputId": "0ddbf858-939f-44b0-bb50-375897f11793"
      },
      "execution_count": null,
      "outputs": [
        {
          "output_type": "stream",
          "name": "stdout",
          "text": [
            "Digite um numero: 1\n",
            "Digite um numero: 2\n",
            "Digite um numero: 3\n",
            "Digite um numero: 4\n",
            "Digite um numero: 5\n",
            "Digite um numero: 6\n",
            "[1, 2, 3, 4, 5, 6]\n",
            "[6, 5, 4, 3, 2, 1]\n"
          ]
        }
      ]
    },
    {
      "cell_type": "code",
      "source": [
        "'''\n",
        "#9 Crie um programa que leia 6 valores inteiros e pares, em seguida mostre na tela os valores lidos na ordem inversa.\n",
        "'''\n",
        "\n",
        "numerosPares = []\n",
        "\n",
        "while(len(numerosPares) < 6):\n",
        "  numero = int(input('Digite um número: '))\n",
        "\n",
        "  if numero % 2 == 0:\n",
        "    numerosPares.append(numero)\n",
        "\n",
        "print('Números pares:', numerosPares)\n",
        "\n",
        "numerosPares.sort(reverse=True)\n",
        "\n",
        "print('Números pares na ordem inversa:', numerosPares)"
      ],
      "metadata": {
        "colab": {
          "base_uri": "https://localhost:8080/"
        },
        "id": "dZq8YeVPz3kl",
        "outputId": "39904a4a-2d27-4c80-f451-2f21db6c9dd7"
      },
      "execution_count": null,
      "outputs": [
        {
          "output_type": "stream",
          "name": "stdout",
          "text": [
            "Digite um número: 3\n",
            "Digite um número: 2\n",
            "Digite um número: 6\n",
            "Digite um número: 7\n",
            "Digite um número: 8\n",
            "Digite um número: 9\n",
            "Digite um número: 10\n",
            "Digite um número: 11\n",
            "Digite um número: 12\n",
            "Digite um número: 4\n",
            "Números pares: [2, 6, 8, 10, 12, 4]\n",
            "Números pares na ordem inversa: [12, 10, 8, 6, 4, 2]\n"
          ]
        }
      ]
    },
    {
      "cell_type": "code",
      "source": [
        "'''\n",
        "#10 Faça um programa ler a nota da prova de 15 alunos e armazene em um vetor, calcule e imprima a média geral\n",
        "'''\n",
        "\n",
        "def inputUser():\n",
        "  return int(input('Digite a nota do aluno: '))\n",
        "\n",
        "notas = []\n",
        "for i in range(0, 15):\n",
        "  notas.append(inputUser())\n",
        "\n",
        "print(notas)\n",
        "media = sum(notas) / len(notas)\n",
        "print(media)"
      ],
      "metadata": {
        "colab": {
          "base_uri": "https://localhost:8080/"
        },
        "id": "IxJtD6wB0tv9",
        "outputId": "68ac3583-920e-4d06-f405-894c7bb8eb0e"
      },
      "execution_count": null,
      "outputs": [
        {
          "output_type": "stream",
          "name": "stdout",
          "text": [
            "Digite a nota do aluno: 10\n",
            "Digite a nota do aluno: 9\n",
            "Digite a nota do aluno: 9\n",
            "Digite a nota do aluno: 9\n",
            "Digite a nota do aluno: 10\n",
            "Digite a nota do aluno: 10\n",
            "Digite a nota do aluno: 10\n",
            "Digite a nota do aluno: 10\n",
            "Digite a nota do aluno: 10\n",
            "Digite a nota do aluno: 10\n",
            "Digite a nota do aluno: 10\n",
            "Digite a nota do aluno: 10\n",
            "Digite a nota do aluno: 10\n",
            "Digite a nota do aluno: 10\n",
            "Digite a nota do aluno: 10\n",
            "[10, 9, 9, 9, 10, 10, 10, 10, 10, 10, 10, 10, 10, 10, 10]\n",
            "9.8\n"
          ]
        }
      ]
    },
    {
      "cell_type": "code",
      "source": [
        "'''\n",
        "#11 Faça um programa que preencha um vetor com 10 números reais, calcule e mostre a quantidade de números negativos e a soma dos números positivos desse vetor.\n",
        "'''\n",
        "\n",
        "def inputUser():\n",
        "  return int(input('Digite um numero: '))\n",
        "\n",
        "posicao = []\n",
        "for i in range(0, 10):\n",
        "  posicao.append(inputUser())"
      ],
      "metadata": {
        "id": "61CPprvI1qx8"
      },
      "execution_count": null,
      "outputs": []
    },
    {
      "cell_type": "code",
      "source": [
        "'''\n",
        "#12 Fazer um programa para ler 5 valores e em seguida mostrar todos os valores lidos juntamente com o maior, o menor e a média dos valores.\n",
        "'''\n",
        "\n",
        "def inputUser():\n",
        "  return int(input('Digite um numero: '))\n",
        "\n",
        "valor = []\n",
        "for i in range(0, 5):\n",
        "  valor.append(inputUser())\n",
        "\n",
        "media = sum(valor) / len(valor)\n",
        "\n",
        "print(valor)\n",
        "print(max(valor))\n",
        "print(min(valor))\n",
        "print(media)"
      ],
      "metadata": {
        "colab": {
          "base_uri": "https://localhost:8080/"
        },
        "id": "IcFAW5L46xFE",
        "outputId": "929a2cc0-7e8c-4066-8436-40425c8c4b02"
      },
      "execution_count": null,
      "outputs": [
        {
          "output_type": "stream",
          "name": "stdout",
          "text": [
            "Digite um numero: 10\n",
            "Digite um numero: 9\n",
            "Digite um numero: 10\n",
            "Digite um numero: 9\n",
            "Digite um numero: 9\n",
            "[10, 9, 10, 9, 9]\n",
            "10\n",
            "9\n",
            "9.4\n"
          ]
        }
      ]
    },
    {
      "cell_type": "code",
      "source": [
        "'''\n",
        "#13 Fazer um programa para ler 5 valores e em seguida mostrar a posição onde se encontram o maior e o menor valor.\n",
        "'''\n",
        "\n",
        "def inputUser():\n",
        "  return int(input('Digite um numero: '))\n",
        "\n",
        "posicao = []\n",
        "for i in range(0, 5):\n",
        "  posicao.append(inputUser())\n",
        "\n",
        "print(posicao)\n",
        "print(posicao.index(max(posicao)))\n",
        "print(posicao.index(min(posicao)))"
      ],
      "metadata": {
        "colab": {
          "base_uri": "https://localhost:8080/"
        },
        "id": "bdhcYIAb7c_t",
        "outputId": "2266f2c9-f41b-411a-c3ab-139828d00ece"
      },
      "execution_count": null,
      "outputs": [
        {
          "output_type": "stream",
          "name": "stdout",
          "text": [
            "Digite um numero: 200\n",
            "Digite um numero: 100\n",
            "Digite um numero: 1\n",
            "Digite um numero: 2\n",
            "Digite um numero: 10\n",
            "[200, 100, 1, 2, 10]\n",
            "0\n",
            "2\n"
          ]
        }
      ]
    },
    {
      "cell_type": "code",
      "source": [
        "'''\n",
        "#14 Faça um programa que leia um vetor de 10 posições e verifique se existem valores iguais e os escreva na tela.\n",
        "'''\n",
        "\n",
        "list = [1, 2, 1, 2, 3, 4, 5, 1, 1, 2, 5, 6, 7, 8, 9, 9]\n",
        " \n",
        "novaLista = []\n",
        " \n",
        "for i in list:\n",
        "\n",
        "    num = list.count(i)\n",
        " \n",
        "    if num > 1:\n",
        " \n",
        "        if novaLista.count(i) == 0:\n",
        " \n",
        "            novaLista.append(i)\n",
        " \n",
        "print(novaLista)\n",
        "\n",
        "'''\n",
        "def counter(lista, num):\n",
        "  contador = 0\n",
        "  for item in lista:\n",
        "    if(item == num):\n",
        "      contador = contador + 1\n",
        "  return contador\n",
        "'''"
      ],
      "metadata": {
        "id": "3u26fNna8bGL",
        "colab": {
          "base_uri": "https://localhost:8080/"
        },
        "outputId": "192d4d65-b7b4-409b-b9f0-494492ae1b64"
      },
      "execution_count": null,
      "outputs": [
        {
          "output_type": "stream",
          "name": "stdout",
          "text": [
            "[1, 2, 5, 9]\n"
          ]
        }
      ]
    },
    {
      "cell_type": "code",
      "source": [
        "numerador = int(input(\"Qual o número que quer que se faça a tabuada: \"))\n",
        "print(\"\\n\")\n",
        "for i in range(1,11):\n",
        "    r = i*numerador\n",
        "    print(\"{} x {} = {}\".format(numerador,i,r))\n",
        "    i = i+1"
      ],
      "metadata": {
        "id": "-AScbnKbjNbv",
        "outputId": "66a73f47-3746-4b6d-8539-4569e482a939",
        "colab": {
          "base_uri": "https://localhost:8080/"
        }
      },
      "execution_count": null,
      "outputs": [
        {
          "output_type": "stream",
          "name": "stdout",
          "text": [
            "Qual o número que quer que se faça a tabuada: 2\n",
            "\n",
            "\n",
            "2 x 1 = 2\n",
            "2 x 2 = 4\n",
            "2 x 3 = 6\n",
            "2 x 4 = 8\n",
            "2 x 5 = 10\n",
            "2 x 6 = 12\n",
            "2 x 7 = 14\n",
            "2 x 8 = 16\n",
            "2 x 9 = 18\n",
            "2 x 10 = 20\n"
          ]
        }
      ]
    },
    {
      "cell_type": "code",
      "source": [
        "def somarLista():\n",
        "  return float(input('Digite um numero: '))\n",
        "\n",
        "lista = []\n",
        "for i in range(0, 10):\n",
        "  lista.append(somarLista())\n",
        "\n",
        "listaSum = sum(lista)\n",
        "print(f\"Soma da lista: {listaSum}\")"
      ],
      "metadata": {
        "id": "x5DPZVjYjQEz",
        "colab": {
          "base_uri": "https://localhost:8080/"
        },
        "outputId": "087cb7c4-f8ab-4324-d8a0-b6f1ee24314c"
      },
      "execution_count": null,
      "outputs": [
        {
          "output_type": "stream",
          "name": "stdout",
          "text": [
            "Digite um numero: 1.0\n",
            "Digite um numero: 2.0\n",
            "Digite um numero: 3.0\n",
            "Digite um numero: 4.0\n",
            "Digite um numero: 5.0\n",
            "Digite um numero: 6.0\n",
            "Digite um numero: 7.0\n",
            "Digite um numero: 8.0\n",
            "Digite um numero: 9.0\n",
            "Digite um numero: 10.0\n",
            "Soma da lista: 55.0\n"
          ]
        }
      ]
    },
    {
      "cell_type": "code",
      "source": [
        ""
      ],
      "metadata": {
        "id": "z-sJCdMkKpw8"
      },
      "execution_count": null,
      "outputs": []
    }
  ]
}