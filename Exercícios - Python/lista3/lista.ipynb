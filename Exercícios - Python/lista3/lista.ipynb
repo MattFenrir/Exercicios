{
 "cells": [
  {
   "cell_type": "code",
   "execution_count": null,
   "metadata": {},
   "outputs": [],
   "source": [
    "# Calcular a soma dos 100 primeiros nº naturais.\n",
    "soma = 0\n",
    "for i in range(100):\n",
    "    soma += i\n",
    "\n",
    "print(soma)\n",
    "\n",
    "\n",
    "somaNum = 0\n",
    "cont = 0\n",
    "while cont < 100:\n",
    "    somaNum += cont\n",
    "    cont += 1\n",
    "print(somaNum)"
   ]
  },
  {
   "cell_type": "code",
   "execution_count": null,
   "metadata": {},
   "outputs": [],
   "source": [
    "# Imprimir os múltiplos de 7 menores que 200\n",
    "\n",
    "for i in range(200):\n",
    "  if(i % 7 == 0):\n",
    "     print(i)\n",
    "  else:\n",
    "      print('------')\n",
    "\n",
    "cont = 0\n",
    "while True:\n",
    "      valor = cont * 7\n",
    "      if(valor < 200):\n",
    "            #print(valor)\n",
    "            cont += 1\n",
    "      else:\n",
    "            break"
   ]
  },
  {
   "cell_type": "code",
   "execution_count": 1,
   "metadata": {},
   "outputs": [
    {
     "name": "stdout",
     "output_type": "stream",
     "text": [
      "4 x 1 = 4\n",
      "4 x 2 = 8\n",
      "4 x 3 = 12\n",
      "4 x 4 = 16\n",
      "4 x 5 = 20\n",
      "4 x 6 = 24\n",
      "4 x 7 = 28\n",
      "4 x 8 = 32\n",
      "4 x 9 = 36\n",
      "4 x 10 = 40\n"
     ]
    }
   ],
   "source": [
    "# Imprimir a tabuada do número 4\n",
    "\n",
    "numerador = 4\n",
    "for i in range(1,11):\n",
    "    print(f'{numerador} x {i} = {numerador * i}')"
   ]
  },
  {
   "cell_type": "code",
   "execution_count": null,
   "metadata": {},
   "outputs": [],
   "source": [
    "# Imprimir a tabuada de qualquer número n.\n",
    "\n",
    "numerador = int(input(\"Qual o número que quer que se faça a tabuada: \"))\n",
    "for i in range(1,11):\n",
    "    print(f'{numerador} x {i} = {numerador * i}')"
   ]
  },
  {
   "cell_type": "code",
   "execution_count": 2,
   "metadata": {},
   "outputs": [
    {
     "name": "stdout",
     "output_type": "stream",
     "text": [
      "17.671232876712327\n"
     ]
    }
   ],
   "source": [
    "# Calcular e mostrar a média aritmética dos números pares copreendidos entre 13 e 73.\n",
    "\n",
    "soma = 0\n",
    "for i in range(13, 74):\n",
    "    if(i % 2 == 0):\n",
    "        soma = soma + i\n",
    "        contador = contador + 1\n",
    "        \n",
    "media = soma / contador\n",
    "print(media)"
   ]
  },
  {
   "cell_type": "code",
   "execution_count": 5,
   "metadata": {},
   "outputs": [
    {
     "name": "stdout",
     "output_type": "stream",
     "text": [
      "0 1 1 2 3 5 8 13 21 34 55 89 144 233 377 610 987 1597 2584 4181 6765 10946 "
     ]
    }
   ],
   "source": [
    "'''\n",
    "    A série de Fibonacci é uma seqüência de termos que tem como os 2 primeiros termos, respectivamente, os números 0 e 1. A partir daí, os demais termos são formados seguindo uma\n",
    "    certa regra. A série de Fibonacci pode ser vista a seguir:\n",
    "                                0 1 1 2 3 5 8 13 21...\n",
    "    Descubra a regra que gera a seqüência da série de Fibonacci e escreva um algoritmo que gere os n (solicitados pelo usuário) primeiros termos desta série e calcula e escreve a soma destes termos.\n",
    "'''\n",
    "\n",
    "antNum = 0\n",
    "atual = 1\n",
    "poxNum = 0\n",
    "print(antNum, end=' ')\n",
    "print(atual, end=' ')\n",
    "for i in range(20):\n",
    "    proxNum = atual + antNum\n",
    "    print(proxNum, end=' ')\n",
    "    antNum = atual\n",
    "    atual = proxNum\n",
    "\n"
   ]
  },
  {
   "cell_type": "code",
   "execution_count": 6,
   "metadata": {},
   "outputs": [
    {
     "name": "stdout",
     "output_type": "stream",
     "text": [
      "Juros: R$ 336.0\n",
      "28.0 %\n",
      "Montante: R$ 1536.0\n"
     ]
    }
   ],
   "source": [
    "# Uma pessoa aplicou o capital de R$1.200,00 a uma taxa de 2% ao mês durante 14 meses. Determine os juros e o montante dessa aplicação.\n",
    "\n",
    "'''\n",
    "    J = C x i x t\n",
    "\n",
    "    Onde:\n",
    "\n",
    "    J = juros simples;\n",
    "    C = capital inicial;\n",
    "    i = taxa de juros;\n",
    "    t = tempo de aplicação.\n",
    "'''\n",
    "\n",
    "j = 1200 * 0.02 * 14\n",
    "montante = 1200 + j\n",
    "juros = 33600 / 1200\n",
    "print(f'Juros: R$ {j}')\n",
    "print(f'{juros} %')\n",
    "print(f'Montante: R$ {montante}')"
   ]
  }
 ],
 "metadata": {
  "kernelspec": {
   "display_name": "Python 3.10.7 64-bit (microsoft store)",
   "language": "python",
   "name": "python3"
  },
  "language_info": {
   "codemirror_mode": {
    "name": "ipython",
    "version": 3
   },
   "file_extension": ".py",
   "mimetype": "text/x-python",
   "name": "python",
   "nbconvert_exporter": "python",
   "pygments_lexer": "ipython3",
   "version": "3.10.7"
  },
  "orig_nbformat": 4,
  "vscode": {
   "interpreter": {
    "hash": "adf0493720704c1abaf9e3cbeb8fae33bce164851e3bac93058057e194572999"
   }
  }
 },
 "nbformat": 4,
 "nbformat_minor": 2
}
